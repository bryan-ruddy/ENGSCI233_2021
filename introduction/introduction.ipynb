{
 "cells": [
  {
   "cell_type": "markdown",
   "metadata": {},
   "source": [
    "# ENGSCI233 - Computational Techniques and Computer Systems"
   ]
  },
  {
   "cell_type": "markdown",
   "metadata": {},
   "source": [
    "**ENGSCI233: Computational Techniques and Computer Systems** \n",
    "\n",
    "*Department of Engineering Science, University of Auckland*"
   ]
  },
  {
   "cell_type": "markdown",
   "metadata": {},
   "source": [
    "Welcome to ENGSCI233: Computational Techniques and Computer Systems.\n",
    "\n",
    "The **purpose** of this course is to make you an [**awesome programmer**](https://www.reddit.com/r/programminghorror/). We do this by:\n",
    "\n",
    "- Exposing you to a range of **computational techniques and [algorithms](https://pics.me.me/algorithm-noun-word-used-by-programmers-when-they-do-not-6470233.png)** for working with data, building models, and solving problems.\n",
    "- Giving you **practice writing computer code**, including problem conceptualisation, pseudocode, implementation, and testing.\n",
    "- Demonstrating select **software design concepts** that improve the quality of your programs, including unit testing, version control, profiling, and API design.\n",
    "\n",
    "This will be done through a mixture of Jupyter notebooks (this thing you're reading now), notebook-based activities in class, as well as computer-based labs."
   ]
  },
  {
   "cell_type": "markdown",
   "metadata": {},
   "source": [
    "## Assessment"
   ]
  },
  {
   "cell_type": "markdown",
   "metadata": {},
   "source": [
    "Your performance in this course is assessed by a mixture of tests, lab assignments, and a final exam. The exact division is:\n",
    "\n",
    "- **30%** across **two tests** in weeks 6 and 11.\n",
    "- **60%** from ten **labs**, 6% each.\n",
    "- **10%** from ten Canvas **quizzes**, 1% each."
   ]
  },
  {
   "cell_type": "markdown",
   "metadata": {},
   "source": [
    "### Labs"
   ]
  },
  {
   "cell_type": "markdown",
   "metadata": {},
   "source": [
    "The majority of these are Python-based. For many of these labs, you will need to submit your written Python scripts through Canvas. Submissions are automatically **compared** against each other for **similarity**. The final project lab is partially assessed during the allocated lab time.\n",
    "\n",
    "***Copying of work is easy to detect and may amount to academic misconduct.***\n",
    "\n",
    "In 2019, ten or so students in ENGSCI233 had academic misconduct interviews as a result of their CT lab submissions. "
   ]
  },
  {
   "cell_type": "markdown",
   "metadata": {},
   "source": [
    "### Canvas quizzes"
   ]
  },
  {
   "cell_type": "markdown",
   "metadata": {},
   "source": [
    "There are **ten quizzes** scattered across the various topics. Each quiz comprises **a series of multichoice questions** and must be completed **before class starts**. You may have up to **three attempts** and your **best mark** will be kept. \n",
    "\n",
    "The total allocated marks for the quizzes is low (10%). Their **purpose** is to incentivise you to familiarise yourself with the material before coming to class."
   ]
  },
  {
   "cell_type": "markdown",
   "metadata": {},
   "source": [
    "## It's not working..."
   ]
  },
  {
   "cell_type": "markdown",
   "metadata": {},
   "source": [
    "Unfortunately, I'm not able to do any troubleshooting during class. However, please feel free to catch me at the front before or after. \n",
    "\n",
    "If you're doing this at home, I'm afraid it's off to [**Google**](https://devhumor.com/content/uploads/images/August2019/google_programmer.jpg) with you... (or make a post on **Piazza**)"
   ]
  },
  {
   "cell_type": "markdown",
   "metadata": {},
   "source": [
    "## Feedback"
   ]
  },
  {
   "cell_type": "markdown",
   "metadata": {},
   "source": [
    "I'm very pleased to hear how this course could be made better so please participate in the **SET survey** at the end of the course. Let me know the things you liked, the things you hated, and what was most useful for your learning.\n",
    "\n",
    "If things are going badly **RIGHT NOW**, then get in touch early. You can make public OR private posts on Piazza. Public posts are anonymous to other students. You can also email your lecturer directly if things are really terrible - we want to hear if that's the case!"
   ]
  },
  {
   "cell_type": "markdown",
   "metadata": {},
   "source": [
    "## Is this Python?"
   ]
  },
  {
   "cell_type": "markdown",
   "metadata": {},
   "source": [
    "No. Yes. Sort of."
   ]
  },
  {
   "cell_type": "markdown",
   "metadata": {},
   "source": [
    "You're currently reading this text inside of something called a Jupyter Notebook. It enables me to write short explanations, with [web links](https://historytech.files.wordpress.com/2017/09/screen-shot-2017-09-14-at-4-11-16-pm.png?w=352&h=267), pictures\n",
    "\n",
    "\\begin{equation}\n",
    "e^{qu}\\times at=i\\left(on\\right)^s\n",
    "\\end{equation}\n",
    "\n",
    "and "
   ]
  },
  {
   "cell_type": "code",
   "execution_count": null,
   "metadata": {},
   "outputs": [],
   "source": [
    "# live modifiable, Python code\n",
    "\n",
    "# run the command below by clicking inside the cell and hitting Ctrl+Enter\n",
    "1+2"
   ]
  },
  {
   "cell_type": "markdown",
   "metadata": {},
   "source": [
    "# Python"
   ]
  },
  {
   "cell_type": "markdown",
   "metadata": {},
   "source": [
    "For the rest of this course you will be working exclusively with the [Python](https://en.wikipedia.org/wiki/Python_(programming_language%29) programming language.\n",
    "\n",
    "Python is one of the most widely-used high-level programming languages in the world. It's popularity is due largely to it being open-source and [easy to learn](https://images7.memedroid.com/images/UPLOADED973/596e4c96650e5.jpeg). These notebooks embed snippets of Python code for you to run, modify and (sometimes) complete.\n",
    "\n",
    "\"***But I don't know Python, we were taught MATLAB in ENGGEN 131.***\"\n",
    "\n",
    "Python has many of the [same capabilities](https://docs.scipy.org/doc/numpy/user/numpy-for-matlab-users.html) as MATLAB. You will be provided with a range of resources to get you up and running with Python, including instruction documents, tutorials and help forums. Python will not be the last 'new' programming language you are asked to learn.\n",
    "\n",
    "This document is called a Jupyter Notebook. It will serve both as the ***notes*** for this course, and the material we will cover in class. Your copy of this notebook is ***unique to you*** - I encourage you to take notes within it. One way to do this is to modify a text cell - **double click it, modify, then hit Ctrl+Enter to save** - with new text and [highlight it](http://stackoverflow.com/questions/25104738/text-highlight-in-markdown), e.g.\n",
    "\n",
    "> <mark>**I have enclosed this statement in    `<mark> </mark>` HTML tags. It is now an important highlighted note that my future self will definitely come back and read**</mark>\n",
    "\n",
    "This notebook contains Python code embedded in *cells* that can be executed (by you, right now, on your laptop or, in theory, your phone). For example, ***execute the code in the cell immediately below*** by highlighting it and hitting Ctrl+Enter (or the *run* button at the top, a sideways triangle pointing to a vertical bar)"
   ]
  },
  {
   "cell_type": "code",
   "execution_count": null,
   "metadata": {},
   "outputs": [],
   "source": [
    "# oh gawd, not that dumb computer science in-joke again\n",
    "\n",
    "print(\"hello, world\")          # RECALL: print is a function, \"hello, world\" is a string\n",
    "\n",
    "# <-- the 'hash' symbol is a comment (it was a % in MATLAB)"
   ]
  },
  {
   "cell_type": "markdown",
   "metadata": {},
   "source": [
    "You can modify the code above. You ***should*** modify the code above. ***Change it*** to print something different.\n",
    "\n",
    "We can do all the usual MATLAB stuff, define variables and do math things with them."
   ]
  },
  {
   "cell_type": "code",
   "execution_count": null,
   "metadata": {},
   "outputs": [],
   "source": [
    "# run the simple calculation below and view the result using the print function\n",
    "a = 3.5\n",
    "b = 2.8\n",
    "c = a*b\n",
    "# *copy-paste the print statement from the cell above to display the value of c*"
   ]
  },
  {
   "cell_type": "markdown",
   "metadata": {},
   "source": [
    "We [***import*** modules](https://www.tutorialspoint.com/python/python_modules.htm) to make additional functionality available (in MATLAB, these are preloaded)"
   ]
  },
  {
   "cell_type": "code",
   "execution_count": null,
   "metadata": {},
   "outputs": [],
   "source": [
    "# import the NumPy module, which duplicates much of what you want from MATLAB\n",
    "import numpy as np\n",
    "v = np.linspace(0,10,11)        # RECALL: linspace creates a vector of evenly spaced numbers\n",
    "print(v)\n",
    "print(2*v)"
   ]
  },
  {
   "cell_type": "markdown",
   "metadata": {},
   "source": [
    "- [Python indexing](http://stackoverflow.com/questions/509211/explain-pythons-slice-notation) is ***[from zero](https://i.redd.it/bpnzu5yy126z.png)*** just like with C. \n",
    "- You can index relative to the end of an array using ***negative*** indices. \n",
    "- Indexing uses ***square*** brackets, [], as opposed to round ones, (), in MATLAB.\n",
    "- Variables ***carry over*** from previous cells.\n",
    "- You don't need a semicolon (to suppress output in MATLAB, to [inexplicably](https://memeworld.funnyjunk.com/pictures/Scumbag+semicolon+just+something+that+pissed+me+off+while+in_88463d_3293276.jpg) allow your code to compile in C)."
   ]
  },
  {
   "cell_type": "code",
   "execution_count": null,
   "metadata": {},
   "outputs": [],
   "source": [
    "# make sure you understand HOW these commands result in the printed output below.\n",
    "print(v[0])\n",
    "print(v[-1])\n",
    "print(v[:2])\n",
    "print(v[-2:])"
   ]
  },
  {
   "cell_type": "markdown",
   "metadata": {},
   "source": [
    "**Indentation is important**. In this way, Python enforces that your code looks good. For example, executing the commands below raises an error. \n",
    "\n",
    "***Read the error message. Try to understand it. This is your BEST chance to debug a problem.***\n"
   ]
  },
  {
   "cell_type": "code",
   "execution_count": null,
   "metadata": {},
   "outputs": [],
   "source": [
    "left_hand = 2.\n",
    "right_hand = 3.\n",
    "hands = left_hand + right_hand\n",
    "if hands>6.:\n",
    "print('not bad')\n",
    "else:\n",
    "print('you have small hands')"
   ]
  },
  {
   "cell_type": "markdown",
   "metadata": {},
   "source": [
    "Fix the error by indenting the two `print` statements."
   ]
  },
  {
   "cell_type": "markdown",
   "metadata": {},
   "source": [
    "**Lists** are ordered collections of Python objects (floats, integers, booleans, strings, other lists, etc.)"
   ]
  },
  {
   "cell_type": "code",
   "execution_count": null,
   "metadata": {},
   "outputs": [],
   "source": [
    "my_list = [1,2,3,4]\n",
    "print(my_list)\n",
    "empty_list = []\n",
    "print(empty_list)\n",
    "empty_list.append('hi,')\n",
    "empty_list.append('not')\n",
    "empty_list.append('empty')\n",
    "empty_list.append('now')\n",
    "print(empty_list)"
   ]
  },
  {
   "cell_type": "markdown",
   "metadata": {},
   "source": [
    "**They are different to arrays**, which are ordered collections of numbers we can do math on."
   ]
  },
  {
   "cell_type": "code",
   "execution_count": null,
   "metadata": {},
   "outputs": [],
   "source": [
    "a = np.array([1,2,3,4])\n",
    "b = 2*a\n",
    "print(b)\n",
    "amean = np.mean(a)\n",
    "print(amean)\n",
    "print(np.sum(a), np.std(a), np.min(a), np.max(a))"
   ]
  },
  {
   "cell_type": "markdown",
   "metadata": {},
   "source": [
    "# [What now?](https://i.imgur.com/9OXCPp7.jpg)"
   ]
  },
  {
   "cell_type": "markdown",
   "metadata": {},
   "source": [
    "**Open the introductory Python notebook [python101](../supplementary/python101.ipynb)** and work through the exercises there."
   ]
  }
 ],
 "metadata": {
  "kernelspec": {
   "display_name": "Python 3",
   "language": "python",
   "name": "python3"
  },
  "language_info": {
   "codemirror_mode": {
    "name": "ipython",
    "version": 3
   },
   "file_extension": ".py",
   "mimetype": "text/x-python",
   "name": "python",
   "nbconvert_exporter": "python",
   "pygments_lexer": "ipython3",
   "version": "3.6.4"
  }
 },
 "nbformat": 4,
 "nbformat_minor": 2
}
