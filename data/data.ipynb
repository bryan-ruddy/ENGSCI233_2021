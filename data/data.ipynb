{
 "cells": [
  {
   "cell_type": "markdown",
   "metadata": {},
   "source": [
    "# Data"
   ]
  },
  {
   "cell_type": "markdown",
   "metadata": {},
   "source": [
    "**ENGSCI233: Computational Techniques and Computer Systems** \n",
    "\n",
    "*Department of Engineering Science, University of Auckland*"
   ]
  },
  {
   "cell_type": "markdown",
   "metadata": {},
   "source": [
    "# 0 What's in this Notebook?"
   ]
  },
  {
   "cell_type": "markdown",
   "metadata": {},
   "source": [
    "Data provides the critical link between what we do on a computer (modelling, analysis) and what is happening out in the real-world. This module will develop your understanding of some fundamental concepts that are preliminary to actually working with data: (i) file I/O and file system manipulation, and (ii) representation of data in a data-type.\n",
    "\n",
    "The important things to know with file I/O is: how to create, read and write text files from a computer program, and how to copy, move and delete files from the file system. Other really cool things you can do, but we won't cover them here: add and extract files from zip archives, download files from the internet, and broadcast a command to your friend's laptop that [**formats their hard-drive**](https://www.youtube.com/watch?v=dQw4w9WgXcQ).\n",
    "\n",
    "We'll also start looking at data-types, a gentle introduction to the Python concept of a `Class`. Here, we'll start with something called a linked list, which has a few limited applications. Later, we'll generalise this to a network where we'll really start to see the power of dedicated data types.\n",
    "\n",
    "You need to know:\n",
    "- The basic file system manipulation commands - read, write, copy, delete, move - and how to apply them in different situations.\n",
    "- The attributes and methods of a linked list: delete, insert, pop, and pointers."
   ]
  },
  {
   "cell_type": "code",
   "execution_count": null,
   "metadata": {},
   "outputs": [],
   "source": [
    "# imports and environment: this cell must be executed before any other in the notebook\n",
    "%matplotlib inline\n",
    "from data233 import*"
   ]
  },
  {
   "cell_type": "markdown",
   "metadata": {
    "heading_collapsed": true
   },
   "source": [
    "## 1 File I/O and File System  Operations\n",
    "\n",
    "<mark>***Read, write, copy, move and delete files from within your code.***</mark>"
   ]
  },
  {
   "cell_type": "markdown",
   "metadata": {
    "hidden": true
   },
   "source": [
    "Before we can look at, analyse, visualise and understand data, we must first ***load it*** into our workspace. \n",
    "\n",
    "Usually, data will exist as one or more files somewhere on the file system. The key operations are:\n",
    "1. ***Opening*** files, particularly those not in the current folder.\n",
    "2. ***Reading*** both data and metadata from the file.\n",
    "3. ***Writing*** to files.\n",
    "4. ***Manipulating*** files (copy, delete, etc.) and the file system (folder creation, deletion)."
   ]
  },
  {
   "cell_type": "markdown",
   "metadata": {
    "heading_collapsed": true,
    "hidden": true
   },
   "source": [
    "### 1.1 Opening files"
   ]
  },
  {
   "cell_type": "markdown",
   "metadata": {
    "hidden": true
   },
   "source": [
    "As with MATLAB, we can open a file, assign a ***file pointer*** and use this to extract the information. For example, open the file ```example_file.txt```"
   ]
  },
  {
   "cell_type": "code",
   "execution_count": null,
   "metadata": {
    "hidden": true
   },
   "outputs": [],
   "source": [
    "# opening a file\n",
    "fp = open('example_file.txt','r')     # the first argument is the file name, the second indicates we are opening in \"read-only\"\n",
    "print(fp)\n",
    "\n",
    "# closing a file\n",
    "fp.close()"
   ]
  },
  {
   "cell_type": "markdown",
   "metadata": {
    "hidden": true
   },
   "source": [
    "***Be careful***, if you open an *existing* file in write mode (by passing the argument ```'w'```) it will delete everything and start a new file from scratch."
   ]
  },
  {
   "cell_type": "markdown",
   "metadata": {
    "heading_collapsed": true,
    "hidden": true
   },
   "source": [
    "### 1.2 Reading from files"
   ]
  },
  {
   "cell_type": "markdown",
   "metadata": {
    "hidden": true
   },
   "source": [
    "***Execute the cell below*** to show the content of the file we just opened:"
   ]
  },
  {
   "cell_type": "code",
   "execution_count": null,
   "metadata": {
    "hidden": true
   },
   "outputs": [],
   "source": [
    "%pycat example_file.txt"
   ]
  },
  {
   "cell_type": "markdown",
   "metadata": {
    "hidden": true
   },
   "source": [
    "It contains both ***data*** (the numbers) as well as ***metadata*** (information about the numbers, in the top row, often called ***headers***).\n",
    "\n",
    "We can use preexisting knowledge about the file's structure to write a short piece of code to read it:\n",
    "1. The file contains a ***single header*** line. It is the ***first line***.\n",
    "2. The file contains ***two columns*** of data.\n",
    "3. Assume we ***don't know*** how much data there is in the file (don't known how long the columns are).\n",
    "4. Data in the columns are ***comma separated***.\n",
    "\n",
    "This is a common data format called a CSV file (for comma-separated values). \n",
    "\n",
    "***Run the code below***. Uncomment each of the ```print``` statements in turn to help you understand what is going on."
   ]
  },
  {
   "cell_type": "code",
   "execution_count": null,
   "metadata": {
    "hidden": true
   },
   "outputs": [],
   "source": [
    "# open the file\n",
    "import numpy as np\n",
    "fp = open('example_file.txt','r')\n",
    "\n",
    "# read the header\n",
    "hdr = fp.readline()         # this function pulls out the next line as a string\n",
    "#print(hdr)\n",
    "\n",
    "# enter a while loop to read the data\n",
    "ln = fp.readline()         # read the first line of the data\n",
    "xs = []                    # empty lists for the data to be stored in\n",
    "Ts = []                \n",
    "while ln != '':            # check: is it the end of the file?\n",
    "    # \"strip\" off the \"newline\" character at the end\n",
    "    ln = ln.strip()\n",
    "    #print(ln)\n",
    "    \n",
    "    # \"split\" the string into two substrings, using the comma as a delimiter\n",
    "    x,T = ln.split(',')\n",
    "    #print(x)\n",
    "    \n",
    "    # save the data in a list\n",
    "    xs.append(float(x))    # adds the x value to the end of the list of x's\n",
    "    Ts.append(float(T))    # adds the T value to the end of the list of T's\n",
    "    #print(xs)\n",
    "    \n",
    "    # read the next line before going back to the start of the loop\n",
    "    ln = fp.readline()         \n",
    "\n",
    "# close the file\n",
    "fp.close()\n",
    "\n",
    "# convert the data from lists to arrays\n",
    "#print(Ts)\n",
    "xs = np.array(xs)\n",
    "Ts = np.array(Ts)\n",
    "#print(Ts)"
   ]
  },
  {
   "cell_type": "markdown",
   "metadata": {
    "hidden": true
   },
   "source": [
    "***- - - - CLASS CODING EXERCISE - - - -***"
   ]
  },
  {
   "cell_type": "code",
   "execution_count": null,
   "metadata": {
    "hidden": true
   },
   "outputs": [],
   "source": [
    "# PART ONE\n",
    "# --------\n",
    "# OPEN example_file.txt and keep a running total of the SUM of \n",
    "# temperature values.\n",
    "# (hint: copy-paste code from the cell above)\n",
    "\n",
    "# **your code here**"
   ]
  },
  {
   "cell_type": "code",
   "execution_count": null,
   "metadata": {
    "hidden": true
   },
   "outputs": [],
   "source": [
    "# PART TWO\n",
    "# --------\n",
    "# Extend PART ONE by OPENING a second file called 'cumulative_temperature.txt',\n",
    "# and WRITE out depth and cumulative temperature data.\n",
    "\n",
    "# **your code here**"
   ]
  },
  {
   "cell_type": "code",
   "execution_count": null,
   "metadata": {
    "hidden": true
   },
   "outputs": [],
   "source": [
    "# OPTIONAL CHALLENGE\n",
    "# ------------------\n",
    "# Write out temperature AND cumulative temperature in SCIENTIFIC NOTATION \n",
    "# accurate to 7DP. Make sure the header accurate reflects the column data.\n"
   ]
  },
  {
   "cell_type": "markdown",
   "metadata": {
    "heading_collapsed": true,
    "hidden": true
   },
   "source": [
    "### 1.3 Writing to files"
   ]
  },
  {
   "cell_type": "markdown",
   "metadata": {
    "hidden": true
   },
   "source": [
    "The trickiest part of writing data to a file is getting your head around Python's [```format```](http://thepythonguru.com/python-string-formatting/) method for strings. The best way to learn is through example:"
   ]
  },
  {
   "cell_type": "code",
   "execution_count": null,
   "metadata": {
    "hidden": true
   },
   "outputs": [],
   "source": [
    "# the print function displays a string as output to the screen\n",
    "print(\"Hello, I am string.\")"
   ]
  },
  {
   "cell_type": "code",
   "execution_count": null,
   "metadata": {
    "hidden": true
   },
   "outputs": [],
   "source": [
    "# the string class has a format method that modifies the string\n",
    "print(\"Hola, soy {}.\".format(\"string\"))"
   ]
  },
  {
   "cell_type": "code",
   "execution_count": null,
   "metadata": {
    "hidden": true
   },
   "outputs": [],
   "source": [
    "# we use format to insert numbers into strings\n",
    "print(\"{:d} is an integer\".format(3))"
   ]
  },
  {
   "cell_type": "code",
   "execution_count": null,
   "metadata": {
    "hidden": true
   },
   "outputs": [],
   "source": [
    "# all kinds of numbers\n",
    "print(\"and {:f} is a float.\".format(3))"
   ]
  },
  {
   "cell_type": "code",
   "execution_count": null,
   "metadata": {
    "hidden": true
   },
   "outputs": [],
   "source": [
    "# we can control how the numbers look, and how many numbers to insert\n",
    "print(\"{:d} decimal places is readable but not precise for computation, e.g., {:3.2f}\".format(2, np.pi))"
   ]
  },
  {
   "cell_type": "code",
   "execution_count": null,
   "metadata": {
    "hidden": true
   },
   "outputs": [],
   "source": [
    "# scientific notation is handy when you don't know how large or small your number is going to be\n",
    "print(\"this can be a good way to represent long ugly numbers, e.g., {:8.7e}\".format(np.sqrt(np.pi*1.e12)))"
   ]
  },
  {
   "cell_type": "code",
   "execution_count": null,
   "metadata": {
    "hidden": true
   },
   "outputs": [],
   "source": [
    "# writing data to a file\n",
    "fp = open('my_file.txt','w')\n",
    "\n",
    "# write some string data\n",
    "fp.write('this is the header')\n",
    "fp.write('\\n')          # new line characters are important (comment this line and see for yourself)\n",
    "hdr = 'it should contain human readable information for anyone who happens to open the file'\n",
    "fp.write(hdr+'\\n')\n",
    "\n",
    "# write some other data\n",
    "case = 1\n",
    "for i in range(10):\n",
    "    if case == 1:\n",
    "        # some integers\n",
    "        fp.write('{:03d}\\n'.format(i))      # what happens when you take out the '03' part?\n",
    "    elif case == 2:\n",
    "        # some floats in scientific notation\n",
    "            # generate some random numbers between 0 and 1\n",
    "        r1 = np.random.random()\n",
    "        r2 = np.random.random()\n",
    "            # what does this code do?\n",
    "        if r1>r2:\n",
    "            r1,r2 = r2,r1\n",
    "            # write the pair of numbers\n",
    "        fp.write('{:8.7e}, {:8.7e}\\n'.format(r1, r2))\n",
    "    elif case == 3:\n",
    "        # **to be completed by you**\n",
    "        #  - in the first column, put the index\n",
    "        #  - in the second column, write a random number between 3 and 8\n",
    "        #  - only write out data for even indices (use the % operator to get \"remainder when divided by\")\n",
    "        ___\n",
    "        \n",
    "\n",
    "# close the file\n",
    "fp.close()\n",
    "\n",
    "# view the file we just created\n",
    "%pycat my_file.txt"
   ]
  },
  {
   "cell_type": "markdown",
   "metadata": {
    "hidden": true
   },
   "source": [
    "***Complete the code above for `case == 3`.***\n",
    "\n",
    "***Write code in the cell below to:***\n",
    "1. ***read the contents of `example_file.txt`***\n",
    "2. ***multiply the second column by 2***\n",
    "3. ***write out a new file `example_file2.txt` with the modified column 2, preserving the metadata***"
   ]
  },
  {
   "cell_type": "code",
   "execution_count": null,
   "metadata": {
    "hidden": true
   },
   "outputs": [],
   "source": [
    "# **your code here**"
   ]
  },
  {
   "cell_type": "markdown",
   "metadata": {
    "heading_collapsed": true,
    "hidden": true
   },
   "source": [
    "### 1.4 File system manipulation"
   ]
  },
  {
   "cell_type": "markdown",
   "metadata": {
    "hidden": true
   },
   "source": [
    "Housekeeping is important, especially on a computer. You should keep your files and data in an organised, logical folder structure. To assist with this, Python offers commands to:\n",
    "- ***copy, move and delete*** individual files\n",
    "- ***create and delete*** directories\n",
    "- a ***wildcard*** notation for file and folder selection"
   ]
  },
  {
   "cell_type": "code",
   "execution_count": null,
   "metadata": {
    "hidden": true
   },
   "outputs": [],
   "source": [
    "# create a copy of the file 'example_file.txt' named 'example_file_copy.txt'\n",
    "import os, shutil               # a bunch of useful file system operations\n",
    "?shutil.copyfile\n",
    "# **to do**"
   ]
  },
  {
   "cell_type": "code",
   "execution_count": null,
   "metadata": {
    "hidden": true
   },
   "outputs": [],
   "source": [
    "# create a new subdirectory and move the copied file there\n",
    "os.makedirs('temporary_folder')\n",
    "shutil.move('example_file_copy.txt','temporary_folder'+os.sep+'example_file_copy.txt')\n",
    "\n",
    "# os.sep returns a string to indicate a directory separator - it is different on different operating systems\n",
    "# e.g., os.sep returns '\\\\' on windows and '/' on unix/mac\n",
    "# don't worry too much about this...\n",
    "\n",
    "# note, there are errors when we execute this cell a second time\n",
    "# 1. we cannot 'create' a directory that already exists\n",
    "# 2. we cannot move a file from the 'source' destination more than once\n",
    "\n",
    "# modify the code above with try/except blocks to handle these errors\n",
    "#try:\n",
    "#    **some commands**\n",
    "#except:\n",
    "#    # an error? do this instead\n",
    "#    # option 1\n",
    "#    pass    # <- do nothing\n",
    "#    # option 2\n",
    "#    print('folder already exists') # <- print some info"
   ]
  },
  {
   "cell_type": "markdown",
   "metadata": {
    "hidden": true
   },
   "source": [
    "#### 1.4.1 Deleting files and folders"
   ]
  },
  {
   "cell_type": "markdown",
   "metadata": {
    "hidden": true
   },
   "source": [
    "It goes without saying, you should ***exercise caution*** when automating delete commands within a script."
   ]
  },
  {
   "cell_type": "code",
   "execution_count": null,
   "metadata": {
    "hidden": true
   },
   "outputs": [],
   "source": [
    "# delete a file\n",
    "os.remove('example_file_copy.txt')\n",
    "\n",
    "# delete a folder and everything in it\n",
    "shutil.rmtree('temporary_folder')\n",
    "\n",
    "# both of these commands raise errors if the files and folders are not found\n",
    "# **modify the code to handle these errors**"
   ]
  },
  {
   "cell_type": "markdown",
   "metadata": {
    "hidden": true
   },
   "source": [
    "#### 1.4.2 Using wildcards"
   ]
  },
  {
   "cell_type": "markdown",
   "metadata": {
    "hidden": true
   },
   "source": [
    "The `glob` module is useful to select files and folders conforming to a pattern. Complete the comments in the code below."
   ]
  },
  {
   "cell_type": "code",
   "execution_count": null,
   "metadata": {
    "hidden": true
   },
   "outputs": [],
   "source": [
    "# import package for wildcards\n",
    "from glob import glob\n",
    "\n",
    "# list all files and folders in the current directory\n",
    "files = glob('*')        # finds all files and folders matching the string, the * means \"any text here\"\n",
    "#for file in files: print(file)  # print the list of files and folders\n",
    "\n",
    "# loop through the list, if a folder is encountered, print its name and list the folders contents\n",
    "for file in files:             # for each item in the list\n",
    "    if os.path.isdir(file):       # **your comment**\n",
    "        print(file)                  \n",
    "        subfiles = glob(file+os.sep+'*')  # **your comment**\n",
    "        if len(subfiles)>0:          # **your comment**\n",
    "            for subfile in subfiles:    \n",
    "                print('  '+subfile.split(os.sep)[-1])    \n",
    "        else:                           \n",
    "            print('  *empty folder*')      "
   ]
  },
  {
   "cell_type": "markdown",
   "metadata": {
    "hidden": true
   },
   "source": [
    "***Write code below to search for the two subfolders and swap their contents.***"
   ]
  },
  {
   "cell_type": "code",
   "execution_count": null,
   "metadata": {
    "hidden": true
   },
   "outputs": [],
   "source": [
    "# **your code here**"
   ]
  },
  {
   "cell_type": "markdown",
   "metadata": {
    "hidden": true
   },
   "source": [
    "For more practice working on the file system, open the [**input_output_example.ipynb**](input_output_example.ipynb) notebook and complete the exercises."
   ]
  },
  {
   "cell_type": "markdown",
   "metadata": {},
   "source": [
    "## 2 Linked Lists"
   ]
  },
  {
   "cell_type": "markdown",
   "metadata": {},
   "source": [
    "***Before starting this section, work through the [notebook](object_oriented.ipynb) on object-oriented programming.***\n",
    "\n",
    "In ENGGEN 131 you were introduced to the concept of an array: a contiguous block of memory in which a series of integer or floating point numbers could be stored. This form of memory management is limited with regard to **insertion** or **deletion** of elements from the interior of the list.\n",
    "\n",
    "To get around these limitations, we use a data-type called a ***[Linked List](https://www.cs.cmu.edu/~adamchik/15-121/lectures/Linked%20Lists/linked%20lists.html)***.\n",
    "\n",
    "Each item in the linked list is a container - called a **node** - that contains two pieces of information:\n",
    "1. The **value**, the thing being stored in the list (a number, a string, some other object, another list).\n",
    "2. A **pointer** to the next node in the list.\n",
    "\n",
    "To access the list, we only need to know the where the first node is, called the **head**. Subsequent items in the list are found by following the trail of pointers. The last value in the list has a **null pointer** (in Python, we shall use `None`).\n",
    "\n",
    "Note, in Python the [List](https://www.tutorialspoint.com/python/python_lists.htm) class is actually [implemented as an array](https://docs.python.org/3/faq/design.html#how-are-lists-implemented)."
   ]
  },
  {
   "cell_type": "markdown",
   "metadata": {
    "heading_collapsed": true
   },
   "source": [
    "### 2.1 Linked lists versus arrays"
   ]
  },
  {
   "cell_type": "markdown",
   "metadata": {
    "hidden": true
   },
   "source": [
    "This is not a case of one being better than the other, but rather each type being more suited to a particular application. The strengths and weaknesses of these data-types are discussed below.\n",
    "\n",
    "#### Memory\n",
    "\n",
    "Linked lists require more memory than arrays. This is because, in addition to allocating memory to store an item's value, they also require memory to store the pointer to the next item.\n",
    "\n",
    "#### Ease of access\n",
    "\n",
    "Because arrays store their values sequentially in memory, to access any value, we need only know its index and the pointer to the beginning of the array. This is called *random access*, i.e., we can immediately access random values.\n",
    "\n",
    "To access a particular item in a linked list, we must begin at the head and then follow the trail of pointers until the correct node is arrived at. This is called *sequential access*.\n",
    "\n",
    "#### Flexibility of manipulation\n",
    "\n",
    "Insertion or deletion of values into or from the middle of a linked list is handled by a reasonably straightforward reassignment of pointers. Memory allocation and deallocation for these tasks is simple. \n",
    "\n",
    "When inserting or deleting from an array, the *tail* (items occurring after the insertion/deletion) have to be shifted. If there are a large number of insertions, memory may have to be reallocated and the array copied.\n",
    "\n",
    "#### [When should I use which data-type?](http://stackoverflow.com/questions/393556/when-to-use-a-linked-list-over-an-array-array-list)"
   ]
  },
  {
   "cell_type": "markdown",
   "metadata": {
    "heading_collapsed": true
   },
   "source": [
    "### 2.2 Python implementation"
   ]
  },
  {
   "cell_type": "markdown",
   "metadata": {
    "hidden": true
   },
   "source": [
    "A simple implementation of the linked list is given below. Two classes are defined - `LinkedList` and `Node` - as well as methods to `append`, `insert`, `get_length`, `get_value`, and `get_node`.\n",
    "\n",
    "***Execute the cell below to make linked list classes and methods available.***"
   ]
  },
  {
   "cell_type": "code",
   "execution_count": null,
   "metadata": {
    "code_folding": [],
    "hidden": true
   },
   "outputs": [],
   "source": [
    "class LinkedList(object):\n",
    "    '''A class with methods to implement linked list behavior.\n",
    "    '''\n",
    "    def __init__(self):\n",
    "        '''Initialise an empty list.\n",
    "        '''\n",
    "        self.head = None\n",
    "        \n",
    "    def __repr__(self):\n",
    "        '''Print out values in the list.\n",
    "        '''\n",
    "        # special case, the list is empty\n",
    "        if self.head is None:\n",
    "            return '[]'\n",
    "\n",
    "        # print the head node\n",
    "        ret_str = '['                        # open brackets\n",
    "        node = self.head\n",
    "        ret_str += '{}, '.format(node.value) # add value, comma and white space\n",
    "\n",
    "        # print the nodes that follow, in order\n",
    "        while node.pointer is not None:      # stop looping when reach null pointer\n",
    "            node = node.pointer               # get the next node\n",
    "            ret_str += '{}, '.format(node.value)\n",
    "        ret_str = ret_str[:-2] + ']'         # discard final white space and comma, close brackets\n",
    "        return ret_str\n",
    "    \n",
    "    def append(self, value):\n",
    "        '''Insert a new node with VALUE at the end of the list.\n",
    "        '''\n",
    "        # insert value at final index in list        \n",
    "        self.insert(self.get_length(), value)\n",
    "        \n",
    "    def insert(self, index, value):\n",
    "        '''Insert a new node with VALUE at position INDEX.\n",
    "        '''\n",
    "        # create new node with null pointer\n",
    "        new_node = Node(value, None)\n",
    "        \n",
    "        # special case, inserting at the beginning\n",
    "        if index == 0:\n",
    "            # new node points to old head\n",
    "            new_node.pointer = self.head\n",
    "            # overwrite list head with new node\n",
    "            self.head = new_node\n",
    "            return\n",
    "        \n",
    "        # get the node immediately prior to index\n",
    "        node = self.get_node(index-1)\n",
    "        \n",
    "        # logic to follow\n",
    "        if node is None:                    # special case, out of range\n",
    "            print(\"cannot insert at index {:d}, list only has {:d} items\".format(index, self.get_length()))\n",
    "        elif node.pointer is None:           # special case, inserting as last node\n",
    "            # ** your comment here **\n",
    "            node.pointer = new_node\n",
    "        else:\n",
    "            # ** your comment here **\n",
    "            new_node.pointer = node.pointer\n",
    "            # ** your comment here **\n",
    "            node.pointer = new_node\n",
    "            \n",
    "    def get_length(self):\n",
    "        '''Return the length of the linked list.\n",
    "        '''\n",
    "        # special case, empty list\n",
    "        if self.head is None:\n",
    "            return 0\n",
    "        \n",
    "        # initialise counter\n",
    "        length = 1\n",
    "        node = self.head\n",
    "        while node.pointer is not None:\n",
    "            node = node.pointer\n",
    "            length += 1\n",
    "        \n",
    "        # output computed length    \n",
    "        return length\n",
    "        \n",
    "    def get_node(self, index):\n",
    "        '''Return the node at INDEX.\n",
    "        '''\n",
    "        # special case: index = -1, retrieve last node\n",
    "        if index == -1:\n",
    "            # begin at head\n",
    "            node = self.head\n",
    "            \n",
    "            # loop through until Null pointer\n",
    "            while node.pointer is not None:\n",
    "                node = node.pointer\n",
    "            return node\n",
    "        \n",
    "        # begin at head, use a counter to keep track of index\n",
    "        node = self.head\n",
    "        current_index = 0\n",
    "        \n",
    "        # loop through to correct index\n",
    "        while current_index < index:\n",
    "            node = node.pointer\n",
    "            if node is None:\n",
    "                return node\n",
    "            current_index += 1\n",
    "        \n",
    "        # output located node\n",
    "        return node\n",
    "        \n",
    "    def get_value(self, index):\n",
    "        '''Return the value at INDEX.\n",
    "        '''\n",
    "        # get the node at INDEX\n",
    "        node = self.get_node(index)\n",
    "        \n",
    "        # return its value (special case if node is None)\n",
    "        if node is None:\n",
    "            return None\n",
    "        else: \n",
    "            return node.value\n",
    "        \n",
    "class Node(object):\n",
    "    '''A class with methods for node object.\n",
    "    '''\n",
    "    def __init__(self, value, pointer):\n",
    "        '''Initialise a new node with VALUE and POINTER\n",
    "        '''\n",
    "        self.value = value\n",
    "        self.pointer = pointer\n",
    "        \n",
    "    def __repr__(self):\n",
    "        '''Print out value of node.\n",
    "        '''\n",
    "        return '{}'.format(self.value)\n",
    " "
   ]
  },
  {
   "cell_type": "markdown",
   "metadata": {
    "hidden": true
   },
   "source": [
    "#### 2.2.1 Linked list exercises"
   ]
  },
  {
   "cell_type": "markdown",
   "metadata": {
    "hidden": true
   },
   "source": [
    "\n",
    "***Execute the cells below one at a time.***"
   ]
  },
  {
   "cell_type": "code",
   "execution_count": null,
   "metadata": {
    "code_folding": [
     0
    ],
    "hidden": true
   },
   "outputs": [],
   "source": [
    "# 1. Create an empty list\n",
    "ll = LinkedList()\n",
    "print(ll)"
   ]
  },
  {
   "cell_type": "code",
   "execution_count": null,
   "metadata": {
    "code_folding": [],
    "hidden": true
   },
   "outputs": [],
   "source": [
    "# 2. Add some values\n",
    "ll = LinkedList()\n",
    "ll.append(value=1)      # note: append = \"insert value at end of list\"\n",
    "ll.append(value=2)\n",
    "ll.append(value=3)      \n",
    "print(ll)"
   ]
  },
  {
   "cell_type": "code",
   "execution_count": null,
   "metadata": {
    "hidden": true
   },
   "outputs": [],
   "source": [
    "# 3. Add some more values of different 'types'\n",
    "ll.append(value=-3.5)\n",
    "ll.append(value=None)\n",
    "ll.append(value='engsci233 - so great')      \n",
    "ll.append(value=[1,2,3])                     \n",
    "print(ll)"
   ]
  },
  {
   "cell_type": "code",
   "execution_count": null,
   "metadata": {
    "hidden": true
   },
   "outputs": [],
   "source": [
    "# 4. Insert a value into the middle of the list \n",
    "ll.insert(index=4, value='middle of list')\n",
    "print(ll)"
   ]
  },
  {
   "cell_type": "code",
   "execution_count": null,
   "metadata": {
    "hidden": true
   },
   "outputs": [],
   "source": [
    "# 5. Insert a value at the head of the list\n",
    "ll.insert(index=0, value='new head')\n",
    "print(ll)"
   ]
  },
  {
   "cell_type": "markdown",
   "metadata": {
    "hidden": true
   },
   "source": [
    "***The method `append` takes one input, called `value`, whereas the method `insert` takes two inputs, `index` and `value`. Why?***\n",
    "\n",
    "> <mark>*~ your answer here ~*</mark>\n",
    "\n",
    "***We can OMIT `index=` and `value=` from the call to `insert` - i.e., `ll.insert(0,'new head')`. How will the method know which is which? (hint: refer to the method definition above).***\n",
    "\n",
    "> <mark>*~ your answer here ~*</mark>"
   ]
  },
  {
   "cell_type": "markdown",
   "metadata": {
    "heading_collapsed": true,
    "hidden": true
   },
   "source": [
    "#### 2.2.2 Visualising the list"
   ]
  },
  {
   "cell_type": "markdown",
   "metadata": {
    "hidden": true
   },
   "source": [
    "The code below visualises a simple linked list. ***Modify the list and rerun the code.***"
   ]
  },
  {
   "cell_type": "code",
   "execution_count": null,
   "metadata": {
    "hidden": true
   },
   "outputs": [],
   "source": [
    "# imports\n",
    "%matplotlib inline\n",
    "from data233 import *\n",
    "\n",
    "# create a simple linked list with three values (dropping the 'value=' part)\n",
    "ll = LinkedList()\n",
    "ll.append(1); ll.append(2); ll.append(3)\n",
    "\n",
    "# **your modifications here**\n",
    "\n",
    "\n",
    "# visualize the list\n",
    "f,ax = plt.subplots(1,1)\n",
    "f.set_size_inches(12,1)\n",
    "\n",
    "show_list(ll,ax)\n"
   ]
  },
  {
   "cell_type": "markdown",
   "metadata": {
    "hidden": true
   },
   "source": [
    "#### 2.2.3 Accessing the list"
   ]
  },
  {
   "cell_type": "markdown",
   "metadata": {
    "hidden": true
   },
   "source": [
    "The `get_node()` method returns a `Node` object. For example, ***execute the commands below*** to obtain the 5th and 6th nodes from the list and inspect their values."
   ]
  },
  {
   "cell_type": "code",
   "execution_count": null,
   "metadata": {
    "hidden": true
   },
   "outputs": [],
   "source": [
    "# create a list\n",
    "ll = LinkedList()\n",
    "for i in range(22,45,3):\n",
    "    ll.append(i**2-10*i+5)\n",
    "    \n",
    "# get a node\n",
    "nd = ll.get_node(index=5)\n",
    "\n",
    "# get the next node along\n",
    "nd_next = ll.get_node(index=6)"
   ]
  },
  {
   "cell_type": "markdown",
   "metadata": {
    "hidden": true
   },
   "source": [
    "In the cell below, add code to extract **the next list node** from the previous."
   ]
  },
  {
   "cell_type": "code",
   "execution_count": null,
   "metadata": {
    "hidden": true
   },
   "outputs": [],
   "source": [
    "# get the SECOND node, assuming we have ONLY the first node\n",
    "# *hint* use the POINTER attribute\n",
    "nd_next2 = ___\n"
   ]
  },
  {
   "cell_type": "markdown",
   "metadata": {
    "hidden": true
   },
   "source": [
    "Execute the code below which demonstrates the `get_node` method."
   ]
  },
  {
   "cell_type": "code",
   "execution_count": null,
   "metadata": {
    "code_folding": [],
    "hidden": true
   },
   "outputs": [],
   "source": [
    "# imports\n",
    "%matplotlib inline\n",
    "from ipywidgets import interact\n",
    "\n",
    "# create a list\n",
    "ll = LinkedList()\n",
    "for i in range(22,45,3):\n",
    "    ll.append(i**2-10*i+5)\n",
    "\n",
    "# defining an interactive plot function - don't worry about this\n",
    "def interactive_access(index=0):\n",
    "    # specify an index to find\n",
    "    ll.get_value(index);\n",
    "\n",
    "    # visualize\n",
    "    f,ax = plt.subplots(1,1)\n",
    "    f.set_size_inches(12,1)\n",
    "\n",
    "    show_list(ll,ax,highlight=index)\n",
    "    \n",
    "interact(interactive_access, index=(0,7,1));"
   ]
  },
  {
   "cell_type": "markdown",
   "metadata": {
    "hidden": true
   },
   "source": [
    "In the diagram above, **arrows** are *pointers*, **boxes** are *nodes*, and the **numbers** are *values*.\n",
    "\n",
    "***Consider the SECOND node (containing 509). Which pointer (arrow) BELONGS to this node - the one pointing TO it or the one pointing FROM it?***\n",
    "\n",
    "> <mark>*~ your answer here ~*</mark>\n",
    "\n",
    "***Starting from the ZEROTH (head) node, how many \"pointer jumps\" are required to reach the SECOND node?***\n",
    "\n",
    "> <mark>*~ your answer here ~*</mark>\n",
    "\n",
    "***The $N^{th}$ node?***\n",
    "\n",
    "> <mark>*~ your answer here ~*</mark>"
   ]
  },
  {
   "cell_type": "markdown",
   "metadata": {
    "hidden": true
   },
   "source": [
    "***- - - - CLASS CODING EXERCISE - - - -***"
   ]
  },
  {
   "cell_type": "code",
   "execution_count": null,
   "metadata": {
    "hidden": true
   },
   "outputs": [],
   "source": [
    "# PART ONE\n",
    "# --------\n",
    "# create an EMPTY linked list and then\n",
    "# WRITE a for loop to APPEND consecutive \n",
    "# integers up to 20\n",
    "\n",
    "# **your code here**"
   ]
  },
  {
   "cell_type": "code",
   "execution_count": null,
   "metadata": {
    "hidden": true
   },
   "outputs": [],
   "source": [
    "# PART TWO\n",
    "# --------\n",
    "# nd = ll.head   assigns the FIRST node in a linked list to `nd'. \n",
    "# `nd' has attributes \"value\" and \"pointer\". \"pointer\" is the NEXT \n",
    "# node object in the list. \n",
    "#\n",
    "# WRITE a for loop to iterate over your list from part one above USING \n",
    "# the \"pointer\" attribute to move to each subsequent node. \n",
    "# PRINT each node's value.\n",
    "\n",
    "nd = ll.head     # get the first, head node\n",
    "\n",
    "# **your code here**"
   ]
  },
  {
   "cell_type": "code",
   "execution_count": null,
   "metadata": {
    "hidden": true
   },
   "outputs": [],
   "source": [
    "# OPTIONAL CHALLENGE\n",
    "# ------------------\n",
    "# Instead of using a FOR loop in PART TWO, use a WHILE loop with the \n",
    "# appropriate stopping condition (node.pointer is None). Hence compute \n",
    "# the LENGTH of the linked list.\n",
    "\n",
    "# **your code here**"
   ]
  },
  {
   "cell_type": "markdown",
   "metadata": {
    "hidden": true
   },
   "source": [
    "#### 2.2.4 Inserting an item in the list"
   ]
  },
  {
   "cell_type": "markdown",
   "metadata": {
    "hidden": true
   },
   "source": [
    "Executing the code below to visualise use of the `insert` method."
   ]
  },
  {
   "cell_type": "code",
   "execution_count": null,
   "metadata": {
    "code_folding": [],
    "hidden": true
   },
   "outputs": [],
   "source": [
    "# imports\n",
    "%matplotlib inline\n",
    "\n",
    "def interactive_insert(index=0):\n",
    "    # visualize the list\n",
    "    f,(ax1,ax2) = plt.subplots(2,1)\n",
    "    f.set_size_inches(12,2.5)\n",
    "\n",
    "    # create a simple linked list with three values\n",
    "    ll = LinkedList()\n",
    "    for i in range(1,6):\n",
    "        ll.append(i)\n",
    "    show_list(ll,ax1,label='original list')\n",
    "\n",
    "    # modify the linked list to insert a new item\n",
    "    ll.insert(index,'(o-o)')\n",
    "    show_list(ll, ax2, highlight=index, label='with insertion at position {:d}'.format(index))\n",
    "\n",
    "interact(interactive_insert, index = (0,5,1));"
   ]
  },
  {
   "cell_type": "markdown",
   "metadata": {
    "hidden": true
   },
   "source": [
    "In the diagram above, set the INDEX slider to 3.\n",
    "\n",
    "***Which pointer in the ORIGINAL list is SEVERED?***\n",
    "\n",
    "> <mark>*~ your answer here ~*</mark>\n",
    "\n",
    "***Which pointers in the MODIFIED list are NEW?***\n",
    "\n",
    "> <mark>*~ your answer here ~*</mark>\n",
    "\n",
    "***Which lines of code in the definition of `insert` above achieve the pointer reassingment?***\n",
    "\n",
    "> <mark>*~ your answer here ~*</mark>\n"
   ]
  },
  {
   "cell_type": "markdown",
   "metadata": {
    "hidden": true
   },
   "source": [
    "#### 2.2.5 Deleting and popping items (HOMEWORK EXERCISE)"
   ]
  },
  {
   "cell_type": "markdown",
   "metadata": {
    "hidden": true
   },
   "source": [
    "**Popping** refers to removing an item from a list and returning it to the user. For example, popping repeatedly the first item of a list is equivalent to operating a **queue**. Equally, popping from the end of a list is referred to as a **stack**."
   ]
  },
  {
   "cell_type": "code",
   "execution_count": null,
   "metadata": {
    "hidden": true
   },
   "outputs": [],
   "source": [
    "# SKETCH the operations for a POP method, the opposite of INSERT, including:\n",
    "# - LOCATING the item to be popped\n",
    "# - reassigning pointers so that the linked list BYPASSES the popped item\n",
    "# - RETURNING the popped item"
   ]
  },
  {
   "cell_type": "markdown",
   "metadata": {
    "hidden": true
   },
   "source": [
    "***Complete the ```pop``` method in the cell in the ```LinkedList``` class below.*** "
   ]
  },
  {
   "cell_type": "code",
   "execution_count": null,
   "metadata": {
    "code_folding": [
     0,
     3,
     43
    ],
    "hidden": true
   },
   "outputs": [],
   "source": [
    "class LinkedListPop(LinkedList):\n",
    "    '''Modify the LinkedList class to implement pop and delete methods.\n",
    "    '''\n",
    "    def __init__(self):\n",
    "        '''Initialise an empty list.\n",
    "        '''\n",
    "        super(LinkedListPop,self).__init__()\n",
    "    def pop(self, index):\n",
    "        '''Delete node at INDEX and return its value.\n",
    "        '''\n",
    "        # special case, index == 0 (delete head)\n",
    "        if index == 0:\n",
    "            # popped value\n",
    "            pop = self.head.value\n",
    "            # set new head as second node\n",
    "            self.head = self.head.pointer\n",
    "            return pop\n",
    "        \n",
    "        # get the node immediately prior to index\n",
    "        ___\n",
    "        \n",
    "        # logic to follow\n",
    "        if node is None:                    # special case, out of range\n",
    "            print(\"cannot access index {:d}, list only has {:d} items\".format(index, self.get_length()))\n",
    "            return None\n",
    "        elif node.pointer is None:          # special case, out of range\n",
    "            print(\"cannot access index {:d}, list only has {:d} items\".format(index, self.get_length()))\n",
    "            return None\n",
    "        elif node.pointer.pointer is None:  # special case, deleting last node\n",
    "            # popped value\n",
    "            pop = node.pointer.value\n",
    "            \n",
    "            # make prior node the last node\n",
    "            node.pointer = None\n",
    "        else:\n",
    "            # popped value\n",
    "            ___\n",
    "            \n",
    "            # set this nodes pointer so that it bypasses the deleted node\n",
    "            ___\n",
    "        \n",
    "        return pop\n",
    "        \n",
    "    def delete(self,index):\n",
    "        '''Delete node at INDEX.        \n",
    "        '''\n",
    "        # use pop method and discard output\n",
    "        self.pop(index)\n",
    "            "
   ]
  },
  {
   "cell_type": "markdown",
   "metadata": {
    "hidden": true
   },
   "source": [
    "***Run the cell below to visualise your `pop` method.***"
   ]
  },
  {
   "cell_type": "code",
   "execution_count": null,
   "metadata": {
    "code_folding": [],
    "hidden": true
   },
   "outputs": [],
   "source": [
    "# imports\n",
    "%matplotlib inline\n",
    "from ipywidgets import interact\n",
    "\n",
    "def interactive_insert_and_delete(insert=0, pop=0):\n",
    "    # visualize the list\n",
    "    f,(ax1,ax2,ax3) = plt.subplots(3,1)\n",
    "    f.set_size_inches(12,3.5)\n",
    "\n",
    "    # create a simple linked list with three values\n",
    "    ll = LinkedListPop()\n",
    "    for i in range(1,6):\n",
    "        ll.append(i)\n",
    "    show_list(ll,ax1,label='original list')\n",
    "\n",
    "    # modify the linked list to insert a new item\n",
    "    ll.insert(insert,'[o-o]')\n",
    "    show_list(ll, ax2, highlight=insert,label='with insertion at position {:d}'.format(insert))\n",
    "    \n",
    "    # modify the linked list to delete an item\n",
    "    value = ll.pop(pop)\n",
    "    show_list(ll,ax3, popped=value, label='after popping item {:d}'.format(pop))\n",
    "\n",
    "interact(interactive_insert_and_delete, insert = (0,5,1), pop = (0,5,1));"
   ]
  },
  {
   "cell_type": "markdown",
   "metadata": {
    "hidden": true
   },
   "source": [
    "\n",
    "***At which index should insertion occur, and which index should be popped so the list that remains is: `1->2->3->4->[o-o]`?***\n",
    "\n",
    "> <mark>*~ your answer here ~*</mark>\n",
    "\n",
    "***The linked list implemented here is singly linked (pointers to next node). What is required for a doubly (pointers to next AND previous nodes) linked list? How will this affect memory requirements.***\n",
    "\n",
    "> <mark>*~ your answer here ~*</mark>\n"
   ]
  },
  {
   "cell_type": "markdown",
   "metadata": {},
   "source": [
    "## 3 Networks"
   ]
  },
  {
   "cell_type": "markdown",
   "metadata": {},
   "source": [
    "A network is a generalisation of the linked list concept. \n",
    "\n",
    "The network comprises a set of nodes connected to other nodes by **arcs**. Each arc is assigned a **weight** (which in a transport network might represent a traffic capacity). Arcs are directional, i.e., they go **from** one node **to** another. Each node can have multiple arcs entering and exiting it.\n",
    "\n",
    "In the first lab, you will be generalising the linked list implementation given above to describe a network."
   ]
  }
 ],
 "metadata": {
  "anaconda-cloud": {},
  "kernelspec": {
   "display_name": "Python 3",
   "language": "python",
   "name": "python3"
  },
  "language_info": {
   "codemirror_mode": {
    "name": "ipython",
    "version": 3
   },
   "file_extension": ".py",
   "mimetype": "text/x-python",
   "name": "python",
   "nbconvert_exporter": "python",
   "pygments_lexer": "ipython3",
   "version": "3.6.4"
  }
 },
 "nbformat": 4,
 "nbformat_minor": 1
}
