{
 "cells": [
  {
   "cell_type": "markdown",
   "metadata": {},
   "source": [
    "# File I/O and directory management\n"
   ]
  },
  {
   "cell_type": "markdown",
   "metadata": {},
   "source": [
    "**ENGSCI233: Computational Techniques and Computer Systems** \n",
    "\n",
    "*Department of Engineering Science, University of Auckland*"
   ]
  },
  {
   "cell_type": "markdown",
   "metadata": {},
   "source": [
    "This notebook contains a few exercises to show how Python is used to explore the file system and extract data from text files.\n",
    "\n",
    "Let's start with directory exploration. The utility below prints the directory tree."
   ]
  },
  {
   "cell_type": "code",
   "execution_count": null,
   "metadata": {},
   "outputs": [],
   "source": [
    "from tree import tree\n",
    "tree(skip='*py*')             # the skip argument hides any folders conforming to *py* "
   ]
  },
  {
   "cell_type": "markdown",
   "metadata": {},
   "source": [
    "Aside from the two notebook files and `tree.py`, we can see there are two folders - `data` and `processed` - one of which, `data`, contains two subfolders - `station1` and `station2`. There are various text files inside the folders.\n",
    "\n",
    "Ordinarily, you could open each text file from the filesystem and inspect its contents. However, this is far to vanilla for a Python partisan, and so we can also [do it from within a notebook](http://www.reactiongifs.com/r/but-why.gif) using the `%pycat` command."
   ]
  },
  {
   "cell_type": "code",
   "execution_count": null,
   "metadata": {},
   "outputs": [],
   "source": [
    "# note the use of a '/' to indicate that 'processed' is a directory and that \n",
    "# 'station_corrections.txt' is contained within it\n",
    "%pycat processed/station_corrections.txt\n",
    "\n",
    "# TASKS\n",
    "# 1. modify the command above to inspect the contents of station_list.txt\n",
    "#    and the two data.txt files in the subfolders station1 and station2\n",
    "\n",
    "# 2. uncomment the genfromtxt command below to pull the corrections out of station_corrections.txt\n",
    "#    - why does the first row contain 'nan'?\n",
    "\n",
    "#import numpy as np\n",
    "#output = np.genfromtxt('processed/station_corrections.txt', delimiter = ';', skip_header=1).T\n",
    "#print(output)\n",
    "\n",
    "# 3. duplicate the genfromtxt command to try pull data out of the other files\n"
   ]
  },
  {
   "cell_type": "markdown",
   "metadata": {},
   "source": [
    "Let's read the file `station_list.txt` a different way: by opening with a file pointer, and processing the lines, as strings, one by one."
   ]
  },
  {
   "cell_type": "code",
   "execution_count": null,
   "metadata": {},
   "outputs": [],
   "source": [
    "fp = open('data/station_list.txt','r')         # opening in read mode, note again the '/'\n",
    "\n",
    "hdr = fp.readline()\n",
    "ln1 = fp.readline()\n",
    "\n",
    "print(hdr)\n",
    "print(ln1)\n",
    "\n",
    "fp.close()\n",
    "\n",
    "# TASKS\n",
    "# 1. uncomment the split method below and answer the following questions:\n",
    "#    - what does split() do?\n",
    "#    - what are the outputs? what are their types?\n",
    "#    - what happens if you change ':' to \",\"? (look carefully, which commas are inside strings\n",
    "#      and which are separating items of a list)\n",
    "#    - what does '\\n' mean?\n",
    "\n",
    "#parts = ln1.split(':')\n",
    "#print(parts)\n",
    "\n",
    "# 2. uncomment the strip method below and answer the following questions:\n",
    "#    - what does strip() do?\n",
    "#    - isn't it pretty rad that we can chain two methods together like that?\n",
    "\n",
    "#ln1_stripped = ln1.strip().split(':')\n",
    "#print(ln1_stripped)\n",
    "\n",
    "# 3. uncomment the float command below to convert the last entry to a number\n",
    "#    - what is the difference between last_entry and last_number? (hint: try adding 1 to both)?\n",
    "\n",
    "#last_entry = ln1.strip().split(',')[-1]\n",
    "#last_number = float(last_entry)\n",
    "#print(last_entry)\n",
    "#print(last_number)\n",
    "\n",
    "# 4. using two split() methods, extract all three numbers from ln1. Do the same for\n",
    "#    the third line of station_list.txt\n"
   ]
  },
  {
   "cell_type": "markdown",
   "metadata": {},
   "source": [
    "Now suppose we want to start looking at files in many different directories. We won't know ahead of time how many directories there are, so we'll need code that is smart and flexible."
   ]
  },
  {
   "cell_type": "code",
   "execution_count": null,
   "metadata": {},
   "outputs": [],
   "source": [
    "# the glob commands lets us find PATHS to files and folders that conform to a particular name pattern\n",
    "from glob import glob\n",
    "\n",
    "# for example, ALL files and folders inside the current directory\n",
    "output = glob('*')\n",
    "print(output)\n",
    "\n",
    "# for example, ALL files and folders inside the subdirectory 'data'\n",
    "output = glob('data/*')\n",
    "print(output)\n",
    "\n",
    "# TASKS\n",
    "# 1. Glob outputs a list. A list of what? What types?\n",
    "\n",
    "# 2. Uncomment the os.path commands below, which test whether a path is a directory or a file\n",
    "#    - try putting one of these tests inside an IF condition and then print whether a path\n",
    "#      points to a directory or a file\n",
    "\n",
    "#import os\n",
    "#print(output[0])\n",
    "#print(os.path.isfile(output[0]))\n",
    "#print(os.path.isdir(output[0]))\n",
    "\n",
    "# 3. Uncomment the commands below that concatenate strings to create new paths.\n",
    "#    - add to the last command so that it prints the path to a file 'data.txt'\n",
    "#    - test the new path inside os.path.isfile() to verify it returns True\n",
    "\n",
    "#print(output[1])\n",
    "#print(output[1] + '/')\n",
    "#print(output[1] + os.sep)\n",
    "\n",
    "# 4. Write a loop over the all the paths that:\n",
    "#    - tests whether the path is a directory\n",
    "#    - if it IS a directory, reads the data inside of it using np.genfromtxt\n"
   ]
  }
 ],
 "metadata": {
  "kernelspec": {
   "display_name": "Python 3",
   "language": "python",
   "name": "python3"
  },
  "language_info": {
   "codemirror_mode": {
    "name": "ipython",
    "version": 3
   },
   "file_extension": ".py",
   "mimetype": "text/x-python",
   "name": "python",
   "nbconvert_exporter": "python",
   "pygments_lexer": "ipython3",
   "version": "3.6.4"
  }
 },
 "nbformat": 4,
 "nbformat_minor": 2
}
