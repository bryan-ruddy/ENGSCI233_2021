{
 "cells": [
  {
   "cell_type": "markdown",
   "metadata": {},
   "source": [
    "# LU Factorisation"
   ]
  },
  {
   "cell_type": "markdown",
   "metadata": {},
   "source": [
    "**ENGSCI233: Computational Techniques and Computer Systems** \n",
    "\n",
    "*Department of Engineering Science, University of Auckland*"
   ]
  },
  {
   "cell_type": "markdown",
   "metadata": {},
   "source": [
    "In the lab, you will be implementing an LU factorisation scheme. You first encountered LU factorisation in ENGSCI 111 and you will again in ENGSCI 211. This section serves as revision of the core concepts, and then extending to introduce the concept of **partial pivoting**.\n",
    "\n",
    "***If the matrices below are not rendering properly...***\n",
    "\n",
    "- Double click in the cell to open the markdown editor.\n",
    "- Ctrl+Enter to recompile"
   ]
  },
  {
   "cell_type": "markdown",
   "metadata": {},
   "source": [
    "## 1 The basics"
   ]
  },
  {
   "cell_type": "markdown",
   "metadata": {},
   "source": [
    "The matrix $A$ is decomposed into **lower** and **upper triangular** matrices, $L$ and $U$, where (assuming zero indexing)\n",
    "\n",
    "\\begin{equation}\n",
    "A=LU,\\quad\\quad L=\\begin{bmatrix}\n",
    "1 &0 &0 &\\cdots &0 &0 \\\\\n",
    "l_{10} &1 &0 &\\cdots &0 &0 \\\\\n",
    "l_{20} &l_{21} &1 &\\cdots &0 &0 \\\\\n",
    "\\vdots &\\vdots &\\vdots &\\ddots &\\vdots  &\\vdots \\\\\n",
    "l_{n-2,0} &l_{n-2,1} &l_{n-2,2} &\\cdots &1 &0 \\\\\n",
    "l_{n-1,0} &l_{n-1,1} &l_{n-1,2} &\\cdots &l_{n-1,n-2} &1\\end{bmatrix},\\quad\\quad U=\\begin{bmatrix}\n",
    "u_{00} & u_{01} & u_{02} & \\cdots & u_{0,n-2} & u_{0,n-1} \\\\\n",
    "0 & u_{11} & u_{12} & \\cdots & u_{1,n-2} & u_{1,n-1} \\\\\n",
    "0 & 0 & u_{22} & \\cdots & u_{2,n-2} & u_{2,n-1} \\\\\n",
    "\\vdots & \\vdots & \\vdots & \\ddots & \\vdots  & \\vdots \\\\\n",
    "0 & 0 & 0 & \\cdots & u_{n-2,n-2} & u_{n-2,n-1} \\\\\n",
    "0 & 0 & 0 & \\cdots & 0 & u_{n-1,n-1}\\end{bmatrix},\n",
    "\\end{equation}\n",
    "\n",
    "The matrices $L$ and $U$ are constructed by applying **Gaussian elimination** to reduce $A$ to an upper triangular form and saving the **subtraction factors** as entries in the $L$ matrix.\n",
    "\n",
    "The matrix equation $A\\mathbf{x}=\\mathbf{b}$ is then solved by a two step process of **backward** and **forward substitution**. Suppose we have: \n",
    "\n",
    "\\begin{equation}\n",
    "A = \\begin{bmatrix} \\hphantom{-}2 & \\hphantom{-}3 & -4 & \\hphantom{-}2 \\\\ -4 & -5 & \\hphantom{-}6 & -3 \\\\ \\hphantom{-}2 & \\hphantom{-}2 & \\hphantom{-}1 & \\hphantom{-}0 \\\\ -6 & -7 & \\hphantom{-}14 & -4 \\end{bmatrix},\\quad\\quad \\mathbf{b} = \\begin{bmatrix} \\hphantom{-}4 \\\\ -8 \\\\ \\hphantom{-}9 \\\\ \\hphantom{-}6 \\end{bmatrix}\n",
    "\\end{equation}\n",
    "\n",
    "1. Performing the LU factorisation we obtain. \n",
    "\n",
    "  \\begin{equation}\n",
    "  L = \\begin{bmatrix} \\hphantom{-}1 & \\hphantom{-}0 & \\hphantom{-}0 & \\hphantom{-}0 \\\\ -2 & \\hphantom{-}1 & \\hphantom{-}0 & \\hphantom{-}0 \\\\ \\hphantom{-}1 & -1 & \\hphantom{-}1 & \\hphantom{-}0 \\\\ -3 & \\hphantom{-}2 & \\hphantom{-}2 & \\hphantom{-}1 \\end{bmatrix},\\quad\\quad U = \\begin{bmatrix} \\hphantom{-}2 & \\hphantom{-}3 & -4 & \\hphantom{-}2 \\\\ \\hphantom{-}0 & \\hphantom{-}1 & -2 & \\hphantom{-}1 \\\\ \\hphantom{-}0 & \\hphantom{-}0 & \\hphantom{-}3 & -1 \\\\ \\hphantom{-}0 & \\hphantom{-}0 & \\hphantom{-}0 & \\hphantom{-}2 \\end{bmatrix}\n",
    "  \\end{equation}\n",
    "\n",
    "  Then, substituting $A=LU$ into the matrix equation $A\\mathbf{x}=\\mathbf{b}$ and writing $U\\mathbf{x}=\\mathbf{y}$:\n",
    "\n",
    "2. First, we solve the matrix equation $L\\mathbf{y} = \\mathbf{b}$ for the intermediate vector $\\mathbf{y}$ using forward substitution.\n",
    "\n",
    "  \\begin{equation}\n",
    "  \\begin{bmatrix} \\hphantom{-}1 & \\hphantom{-}0 & \\hphantom{-}0 & \\hphantom{-}0 \\\\ -2 & \\hphantom{-}1 & \\hphantom{-}0 & \\hphantom{-}0 \\\\ \\hphantom{-}1 & -1 & \\hphantom{-}1 & \\hphantom{-}0 \\\\ -3 & \\hphantom{-}2 & \\hphantom{-}2 & \\hphantom{-}1 \\end{bmatrix}\\begin{bmatrix} y_0 \\\\ y_1 \\\\ y_2 \\\\ y_3 \\end{bmatrix} = \\begin{bmatrix} \\hphantom{-}4 \\\\ -8 \\\\ \\hphantom{-}9 \\\\ \\hphantom{-}6 \\end{bmatrix} \\quad\\quad\\Rightarrow\\quad\\quad \\mathbf{y} = \\begin{bmatrix} 4 \\\\ 0 \\\\ 5 \\\\ 8 \\end{bmatrix}\n",
    "  \\end{equation}\n",
    "\n",
    "3. Then, we solve the matrix equation $U\\mathbf{x} = \\mathbf{y}$ for the solution vector $\\mathbf{x}$ using backward substitution.\n",
    "\n",
    "  \\begin{equation}\n",
    "  \\begin{bmatrix} \\hphantom{-}2 & \\hphantom{-}3 & -4 & \\hphantom{-}2 \\\\ \\hphantom{-}0 & \\hphantom{-}1 & -2 & \\hphantom{-}1 \\\\ \\hphantom{-}0 & \\hphantom{-}0 & \\hphantom{-}3 & -1 \\\\ \\hphantom{-}0 & \\hphantom{-}0 & \\hphantom{-}0 & \\hphantom{-}2 \\end{bmatrix}\\begin{bmatrix} x_0 \\\\ x_1 \\\\ x_2 \\\\ x_3 \\end{bmatrix} = \\begin{bmatrix} 4 \\\\ 0 \\\\ 5 \\\\ 8 \\end{bmatrix} \\quad\\quad\\Rightarrow\\quad\\quad \\mathbf{x} = \\begin{bmatrix} 1 \\\\ 2 \\\\ 3 \\\\ 4 \\end{bmatrix}\n",
    "  \\end{equation}\n",
    "\n",
    "\n",
    "You will be required to code up steps 1-3 as the first part of the lab."
   ]
  },
  {
   "cell_type": "markdown",
   "metadata": {},
   "source": [
    "## 2 Partial pivoting"
   ]
  },
  {
   "cell_type": "markdown",
   "metadata": {},
   "source": [
    "The potential for numerical error can be reduced by using **partial pivoting**. During Gaussian Elimination, instead of using the current row as the pivot, we swap the rows of $A$ **before** the elimination step to ensure the pivot has the largest magnitude of all coefficients in the column below it.\n",
    "\n",
    "We need to store the pivot strategy in a vector, $\\mathbf{p}$, so that we can later apply the same swaps to $\\mathbf{b}$.\n",
    "\n",
    "Applying Gaussian elimination with partial pivoting to $A$ above:\n",
    "\n",
    "First, we swap the top and bottom rows, because $-6$ is the largest **magnitude** entry in the **zeroth** column. We record $p_0=3$ indicating we have swapped to use the third row (assuming zero indexing).\n",
    "\n",
    "\\begin{equation}\n",
    "A = \\begin{bmatrix} \\hphantom{-}2 & \\hphantom{-}3 & -4 & \\hphantom{-}2 \\\\ -4 & -5 & \\hphantom{-}6 & -3 \\\\ \\hphantom{-}2 & \\hphantom{-}2 & \\hphantom{-}1 & \\hphantom{-}0 \\\\ -6 & -7 & \\hphantom{-}14 & -4 \\end{bmatrix}\\quad\\quad\\Rightarrow\\quad\\quad A = \\begin{bmatrix}  -6 & -7 & \\hphantom{-}14 & -4 \\\\ -4 & -5 & \\hphantom{-}6 & -3 \\\\ \\hphantom{-}2 & \\hphantom{-}2 & \\hphantom{-}1 & \\hphantom{-}0 \\\\ \\hphantom{-}2 & \\hphantom{-}3 & -4 & \\hphantom{-}2 \\end{bmatrix}, \\quad p_0=3\n",
    "\\end{equation}\n",
    "\n",
    "apply row reduction operations and record subtraction factors\n",
    "\n",
    "\\begin{equation}\n",
    "\\rightarrow\\quad\\begin{bmatrix}  -6 & -7 & \\hphantom{-}14 & -4 \\\\ \\hphantom{-}0 & -\\frac{1}{3} & -\\frac{10}{3} & -\\frac{1}{3} \\\\ \\hphantom{-}0 & -\\frac{1}{3} & \\hphantom{-}\\frac{17}{3} & -\\frac{4}{3} \\\\ \\hphantom{-}0 & \\hphantom{-}\\frac{2}{3} & \\hphantom{-}\\frac{2}{3} & \\hphantom{-}\\frac{2}{3} \\end{bmatrix},\\quad\\quad L = \\begin{bmatrix} \\hphantom{-}1 & \\hphantom{-}0 & \\hphantom{-}0 & \\hphantom{-}0\\\\ \\hphantom{-}\\frac{2}{3} & \\hphantom{-}1 & \\hphantom{-}0 & \\hphantom{-}0 \\\\ -\\frac{1}{3} & \\hphantom{-}* & \\hphantom{-}1 & \\hphantom{-}0 \\\\ -\\frac{1}{3} & \\hphantom{-}* & \\hphantom{-}* & \\hphantom{-}1 \\end{bmatrix}\n",
    "\\end{equation}\n",
    "\n",
    "Choosing the next pivot row using values in the **first** column, we see the magnitude of entry in row 3 is the highest. Therefore, we again swap to use the third row and record $p_1=3$.\n",
    "\n",
    "\\begin{equation}\n",
    "\\rightarrow\\quad\\begin{bmatrix}  -6 & -7 & \\hphantom{-}14 & -4 \\\\ \\hphantom{-}0 & \\hphantom{-}\\frac{2}{3} & \\hphantom{-}\\frac{2}{3} & \\hphantom{-}\\frac{2}{3} \\\\ \\hphantom{-}0 & -\\frac{1}{3} & \\hphantom{-}\\frac{17}{3} & -\\frac{4}{3} \\\\ \\hphantom{-}0 & -\\frac{1}{3} & -\\frac{10}{3} & -\\frac{1}{3} \\end{bmatrix},\\quad\\quad L = \\begin{bmatrix} \\hphantom{-}1 & \\hphantom{-}0 & \\hphantom{-}0 & \\hphantom{-}0\\\\ -\\frac{1}{3} & \\hphantom{-}1 & \\hphantom{-}0 & \\hphantom{-}0 \\\\ -\\frac{1}{3} & \\hphantom{-}* & \\hphantom{-}1 & \\hphantom{-}0 \\\\ \\frac{2}{3} & \\hphantom{-}* & \\hphantom{-}* & \\hphantom{-}1 \\end{bmatrix},\\quad p_1=3\n",
    "\\end{equation}\n",
    "\n",
    "Note that, in performing this row swap, **we also swapped the entries of $L$**. Performing the next row reduction step.\n",
    "\n",
    "\\begin{equation}\n",
    "\\rightarrow\\quad\\begin{bmatrix}  -6 & -7 & \\hphantom{-}14 & -4 \\\\ \\hphantom{-}0 & \\hphantom{-}\\frac{2}{3} & \\hphantom{-}\\frac{2}{3} & \\hphantom{-}\\frac{2}{3} \\\\ \\hphantom{-}0 & \\hphantom{-}0 & \\hphantom{-}6 & -1 \\\\ \\hphantom{-}0 & \\hphantom{-}0 & -3 & \\hphantom{-}0 \\end{bmatrix},\\quad\\quad L = \\begin{bmatrix} \\hphantom{-}1 & \\hphantom{-}0 & \\hphantom{-}0 & \\hphantom{-}0\\\\ -\\frac{1}{3} & \\hphantom{-}1 & \\hphantom{-}0 & \\hphantom{-}0 \\\\ -\\frac{1}{3} & -\\frac{1}{2} & \\hphantom{-}1 & \\hphantom{-}0 \\\\ \\hphantom{-}\\frac{2}{3} & -\\frac{1}{2} & \\hphantom{-}* & \\hphantom{-}1 \\end{bmatrix},\\quad p_1=3\n",
    "\\end{equation}\n",
    "\n",
    "Choosing the next pivot row using values in the **second** column, we see the magnitude of entry in row 2 is the highest. There is no need for a swap in this case, and so we record $p_2=2$. Performing the row reductions\n",
    "\n",
    "\\begin{equation}\n",
    "\\rightarrow\\quad \\begin{bmatrix} -6 & -7 & \\hphantom{-}14 & -4 \\\\ \\hphantom{-}0 & \\hphantom{-}\\frac{2}{3} & \\hphantom{-}\\frac{2}{3} & \\hphantom{-}\\frac{2}{3} \\\\ \\hphantom{-}0 & \\hphantom{-}0 & \\hphantom{-}6 & -1 \\\\ \\hphantom{-}0 & \\hphantom{-}0 & \\hphantom{-}0 & -\\frac{1}{2} \\end{bmatrix},\\quad\\quad L = \\begin{bmatrix} \\hphantom{-}1 & \\hphantom{-}0 & \\hphantom{-}0 & \\hphantom{-}0\\\\ -\\frac{1}{3} & \\hphantom{-}1 & \\hphantom{-}0 & \\hphantom{-}0 \\\\ -\\frac{1}{3} & -\\frac{1}{2} & \\hphantom{-}1 & \\hphantom{-}0 \\\\ \\hphantom{-}\\frac{2}{3} & -\\frac{1}{2} & -\\frac{1}{2} & \\hphantom{-}1 \\end{bmatrix},\\quad p_2=2\n",
    "\\end{equation}\n",
    "\n",
    "The final entry of $\\mathbf{p}$ is trivial, we don't have a choice about the last pivot row, it must be $3$, and there are no additional row reductions to make. So finally\n",
    "\n",
    "\\begin{equation}\n",
    "U = \\begin{bmatrix} -6 & -7 & \\hphantom{-}14 & -4 \\\\ \\hphantom{-}0 & \\hphantom{-}\\frac{2}{3} & \\hphantom{-}\\frac{2}{3} & \\hphantom{-}\\frac{2}{3} \\\\ \\hphantom{-}0 & \\hphantom{-}0 & \\hphantom{-}6 & -1 \\\\ \\hphantom{-}0 & \\hphantom{-}0 & \\hphantom{-}0 & -\\frac{1}{2} \\end{bmatrix},\\quad\\quad L = \\begin{bmatrix} \\hphantom{-}1 & \\hphantom{-}0 & \\hphantom{-}0 & \\hphantom{-}0\\\\ -\\frac{1}{3} & \\hphantom{-}1 & \\hphantom{-}0 & \\hphantom{-}0 \\\\ -\\frac{1}{3} & -\\frac{1}{2} & \\hphantom{-}1 & \\hphantom{-}0 \\\\ \\hphantom{-}\\frac{2}{3} & -\\frac{1}{2} & -\\frac{1}{2} & \\hphantom{-}1 \\end{bmatrix}, \\quad\\quad \\mathbf{p} = \\begin{bmatrix} 3 \\\\ 3 \\\\ 2\\\\ 3\\end{bmatrix}\n",
    "\\end{equation}\n",
    "\n",
    "Before solving the matrix equation (by forward and backward substitution), we must first apply the row swaps to $\\mathbf{b}$\n",
    "\n",
    "\\begin{equation}\n",
    "\\mathbf{b}=\\begin{bmatrix} \\hphantom{-}4 \\\\ -8 \\\\ \\hphantom{-}9 \\\\ \\hphantom{-}6 \\end{bmatrix} \\quad\\begin{matrix}\\rightarrow \\\\ p_0=3\\end{matrix}\\quad \\begin{bmatrix} \\hphantom{-}6 \\\\ -8 \\\\ \\hphantom{-}9 \\\\ \\hphantom{-}4 \\end{bmatrix} \\quad\\begin{matrix}\\rightarrow \\\\ p_1=3\\end{matrix}\\quad \\begin{bmatrix} \\hphantom{-}6 \\\\ \\hphantom{-}4 \\\\ \\hphantom{-}9 \\\\ -8  \\end{bmatrix}\\quad\\begin{matrix}\\rightarrow \\\\ p_2=2\\end{matrix}\\quad\\begin{bmatrix} \\hphantom{-}6 \\\\ \\hphantom{-}4 \\\\ \\hphantom{-}9 \\\\ -8  \\end{bmatrix} = \\mathbf{b}'\n",
    "\\end{equation}\n"
   ]
  },
  {
   "cell_type": "markdown",
   "metadata": {},
   "source": [
    "## 3 Matrix storage"
   ]
  },
  {
   "cell_type": "markdown",
   "metadata": {},
   "source": [
    "The triangular matrices $L$ and $U$ conform to certain rules on structure. For example, $L\\,$ **must have** 1's along the diagonal, and $U$ **must have** 0's in its lower triangle. We can use this information to store the matrices $L$ and $U$ more compactly:\n",
    "\n",
    "\\begin{equation}\n",
    "L = \\begin{bmatrix} \\hphantom{-}1 & \\hphantom{-}0 & \\hphantom{-}0 & \\hphantom{-}0\\\\ -\\frac{1}{3} & \\hphantom{-}1 & \\hphantom{-}0 & \\hphantom{-}0 \\\\ -\\frac{1}{3} & -\\frac{1}{2} & \\hphantom{-}1 & \\hphantom{-}0 \\\\ \\hphantom{-}\\frac{2}{3} & -\\frac{1}{2} & -\\frac{1}{2} & \\hphantom{-}1 \\end{bmatrix}\\quad\\text{and}\\quad U = \\begin{bmatrix} -6 & -7 & \\hphantom{-}14 & -4 \\\\ \\hphantom{-}0 & \\hphantom{-}\\frac{2}{3} & \\hphantom{-}\\frac{2}{3} & \\hphantom{-}\\frac{2}{3} \\\\ \\hphantom{-}0 & \\hphantom{-}0 & \\hphantom{-}6 & -1 \\\\ \\hphantom{-}0 & \\hphantom{-}0 & \\hphantom{-}0 & -\\frac{1}{2} \\end{bmatrix} \\quad\\Rightarrow\\quad LU = \\begin{bmatrix} -6 & -7 & \\hphantom{-}14 & -4 \\\\ -\\frac{1}{3} & \\hphantom{-}\\frac{2}{3} & \\hphantom{-}\\frac{2}{3} & \\hphantom{-}\\frac{2}{3} \\\\ -\\frac{1}{3} & -\\frac{1}{2} & \\hphantom{-}6 & -1 \\\\ \\hphantom{-}\\frac{2}{3} & -\\frac{1}{2} & -\\frac{1}{2} & -\\frac{1}{2} \\end{bmatrix}\n",
    "\\end{equation}\n",
    "\n",
    "You will be expected to implement this storage system in the lab."
   ]
  }
 ],
 "metadata": {
  "kernelspec": {
   "display_name": "Python 3",
   "language": "python",
   "name": "python3"
  },
  "language_info": {
   "codemirror_mode": {
    "name": "ipython",
    "version": 3
   },
   "file_extension": ".py",
   "mimetype": "text/x-python",
   "name": "python",
   "nbconvert_exporter": "python",
   "pygments_lexer": "ipython3",
   "version": "3.6.4"
  }
 },
 "nbformat": 4,
 "nbformat_minor": 2
}
