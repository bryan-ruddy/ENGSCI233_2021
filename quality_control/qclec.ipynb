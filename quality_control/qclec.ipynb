{
 "cells": [
  {
   "cell_type": "markdown",
   "metadata": {},
   "source": [
    "# Exercise 0"
   ]
  },
  {
   "cell_type": "markdown",
   "metadata": {},
   "source": [
    "Let's perform a row reduction operation by hand. \n",
    "\n",
    "Suppose we have the intermediate matrix:\n",
    "\n",
    "\\begin{equation}\n",
    "A = \\begin{bmatrix} \\hphantom{-}2 & \\hphantom{-}3 & -4 & \\hphantom{-}2 \\\\ \\hphantom{-}0 & \\hphantom{-}1 & -2 & \\hphantom{-}1 \\\\ \\hphantom{-}0 & -1 & \\hphantom{-}5 & -2 \\\\ \\hphantom{-}0 & \\hphantom{-}2 & \\hphantom{-}2 & \\hphantom{-}2 \\end{bmatrix}\n",
    "\\end{equation}\n",
    "\n",
    "Perform the next row reduction operation yourself."
   ]
  },
  {
   "cell_type": "markdown",
   "metadata": {},
   "source": [
    "# Exercise 1"
   ]
  },
  {
   "cell_type": "markdown",
   "metadata": {},
   "source": [
    "Thinking about what you did above, write a specification for a function that performs row reduction.\n",
    "\n",
    "- *what should be the inputs?*\n",
    "- *what should be the outputs?*\n",
    "- *are there preconditions?*"
   ]
  },
  {
   "cell_type": "code",
   "execution_count": null,
   "metadata": {},
   "outputs": [],
   "source": [
    "\"\"\" *short description*\n",
    "\n",
    "    Parameters\n",
    "    ----------\n",
    "    \n",
    "    Returns\n",
    "    -------\n",
    "    \n",
    "    Notes\n",
    "    -----\n",
    "\n",
    "\"\"\""
   ]
  },
  {
   "cell_type": "markdown",
   "metadata": {},
   "source": [
    "### extension"
   ]
  },
  {
   "cell_type": "markdown",
   "metadata": {},
   "source": [
    "Based on your specification above, write a template Python function for `row_reduction`, i.e., the function header, inputs and return BUT NOT the actual code."
   ]
  },
  {
   "cell_type": "code",
   "execution_count": null,
   "metadata": {},
   "outputs": [],
   "source": [
    "def *your code here*\n",
    "    return *your code here*"
   ]
  },
  {
   "cell_type": "markdown",
   "metadata": {},
   "source": [
    "# Exercise 2"
   ]
  },
  {
   "cell_type": "markdown",
   "metadata": {},
   "source": [
    "Write a unit test for your (yet to be written) function `row_reduction`. Ensure that:\n",
    "\n",
    "- *the unit test has no inputs*\n",
    "- *the unit test function has test_ prepended to the name of the function for testing*\n",
    "- *the unit test raises as assertion error if row-reduction is not performing as expected*"
   ]
  },
  {
   "cell_type": "code",
   "execution_count": null,
   "metadata": {},
   "outputs": [],
   "source": [
    "def *your code here*\n",
    "    # test input\n",
    "    A = np.array([\n",
    "        [2, 3, -4, 2],\n",
    "        [0, 1, -2, 1],\n",
    "        [0, -1, 5, -2],\n",
    "        [0, 2, 2, 2],])\n",
    "    assert"
   ]
  },
  {
   "cell_type": "code",
   "execution_count": null,
   "metadata": {},
   "outputs": [],
   "source": [
    "# hint: recall that in the lab last week, you used the norm function to compare to matrices\n",
    "from numpy.linalg import norm\n",
    "#norm(A-B)"
   ]
  }
 ],
 "metadata": {
  "kernelspec": {
   "display_name": "Python 3",
   "language": "python",
   "name": "python3"
  },
  "language_info": {
   "codemirror_mode": {
    "name": "ipython",
    "version": 3
   },
   "file_extension": ".py",
   "mimetype": "text/x-python",
   "name": "python",
   "nbconvert_exporter": "python",
   "pygments_lexer": "ipython3",
   "version": "3.6.4"
  }
 },
 "nbformat": 4,
 "nbformat_minor": 2
}
