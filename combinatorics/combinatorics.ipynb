{
 "cells": [
  {
   "cell_type": "markdown",
   "metadata": {},
   "source": [
    "# [Combinatorics](https://en.wikipedia.org/wiki/Combinatorics)"
   ]
  },
  {
   "cell_type": "markdown",
   "metadata": {},
   "source": [
    "**ENGSCI233: Computational Techniques and Computer Systems** \n",
    "\n",
    "*Department of Engineering Science, University of Auckland*"
   ]
  },
  {
   "cell_type": "markdown",
   "metadata": {},
   "source": [
    "# What's in this Notebook?"
   ]
  },
  {
   "cell_type": "markdown",
   "metadata": {},
   "source": [
    "Combinatorics is a broad class of mathematics concerned with counting, arrangement and selection from finite, discrete sets of items. Numerical applications of combinatorics include:\n",
    "\n",
    "- Arranging a set of items in a particular order according to some criteria, e.g., **sorting** a list of integers from largest to smallest.\n",
    "- Looking within a network structure for a particular item, i.e., **searching**.\n",
    "- Finding the number of subsets within a larger set that satisfy some criteria, e.g., the number of ways to get from A to F through a network of nodes. This is **enumeration**.\n",
    "\n",
    "In this notebook, we'll look at examples of all three: searching, sorting and enumeration. You need to know:\n",
    "\n",
    "- The difference between breadth and depth-first search - one prioritises looking across a network, the other down network branches - and how they are implemented.\n",
    "- Despite sort algorithms achieving the same end, why different methods might be preferred in different circumstances. Some require less memory, others will work as they receive new data, and some have excellent scaling properties.\n",
    "- How Dijkstra's algorithm works, and how to implement it in a computer program."
   ]
  },
  {
   "cell_type": "code",
   "execution_count": null,
   "metadata": {
    "code_folding": []
   },
   "outputs": [],
   "source": [
    "# imports and environment: this cell must be executed before any other in the notebook\n",
    "%matplotlib inline\n",
    "from combinatorics233 import*"
   ]
  },
  {
   "cell_type": "markdown",
   "metadata": {},
   "source": [
    "First, we'll need some definitions:\n",
    "\n",
    "*** Finite, discrete sets ***\n",
    "\n",
    "Consider the finite, discrete set, $S$, which is an unordered collection of some countable number of objects, e.g.,\n",
    "\n",
    "$$ S=\\{A,\\,B,\\,C,\\,D,\\,E,\\,F\\},\\quad\\quad S=\\{1,\\,2,\\,3,\\,...,\\,n\\}, \\quad\\quad S=\\{-3.2,\\,5.6,\\,0.0,\\,\\text{None},\\,[3, 2]\\}.$$\n",
    "\n",
    "Members of the set might be **repeated**, although this can lead to difficulty for search and sort algorithms.\n",
    "\n",
    "$$ S=\\{1,\\,2,\\,3,\\,2\\},\\quad\\quad S=\\{\\text{'alpha'},\\,\\text{'beta'},\\,\\text{'oranges'},\\,\\text{'gamma'},\\,\\text{'alpha'}\\}$$\n",
    "\n",
    "*** Combinations ***\n",
    "\n",
    "Combinations are unordered subsets, $S_c$, derived from a larger set, $S$. We might subject combinations to some **rule**, e.g.,  combinations of **three items** from the set of four items\n",
    "\n",
    "$$S=\\{A,\\,B,\\,C,\\,D\\},\\quad\\quad S_c=\\left\\{\\{A,\\,B,\\,C\\},\\,\\{A,\\,B,\\,D\\},\\,\\{A,\\,C,\\,D\\},\\,\\{B,\\,C,\\,D\\}\\right\\}$$\n",
    "\n",
    "*** Permutations ***\n",
    "\n",
    "Permutations are combinations for which the item **ordering** is a distinguishing property, i.e., the permutation $\\{A,\\,B,\\,C\\}$ is **different** to the permutation $\\{A,\\,C,\\,B\\}$. In constructing the set of permutations, $S_p$, we may also apply rules, e.g., subsets of three items from a larger set of four.\n",
    "\n",
    "$$\\rightarrow \\text{different combinations}\\rightarrow$$\n",
    "\n",
    "$$S_p=\\begin{Bmatrix}\n",
    "\\{A,\\,B,\\,C\\},\\,\\{A,\\,B,\\,D\\},\\,\\{A,\\,C,\\,D\\},\\,\\{B,\\,C,\\,D\\} \\\\\n",
    "\\{A,\\,C,\\,B\\},\\,\\{A,\\,D,\\,B\\},\\,\\{A,\\,D,\\,C\\},\\,\\{B,\\,D,\\,C\\} \\\\\n",
    "\\{B,\\,A,\\,C\\},\\,\\{B,\\,A,\\,D\\},\\,\\{C,\\,A,\\,D\\},\\,\\{C,\\,B,\\,D\\} \\\\\n",
    "\\{B,\\,C,\\,A\\},\\,\\{B,\\,D,\\,A\\},\\,\\{C,\\,D,\\,A\\},\\,\\{C,\\,D,\\,B\\} \\\\\n",
    "\\{C,\\,A,\\,B\\},\\,\\{D,\\,A,\\,B\\},\\,\\{D,\\,A,\\,C\\},\\,\\{D,\\,B,\\,C\\} \\\\\n",
    "\\{C,\\,B,\\,A\\},\\,\\{D,\\,B,\\,A\\},\\,\\{D,\\,C,\\,A\\},\\,\\{D,\\,C,\\,B\\} \\end{Bmatrix},\\quad\\downarrow\\,\\,\\text{different orderings}$$\n",
    "\n",
    "\n",
    "***Enumeration***\n",
    "\n",
    "This refers **either** to the ordering or counting of elements in a set. For instance, enumeration of the set of permutations above may return either the ordered set from most to least alphabetical ($\\{A,\\,B,\\,C\\}$ to $\\{D,\\,C,\\,B\\}$), or simply the size of the set, 24. When enumeration refers to putting set members **in order**, then we must consider the problem of **sorting**. \n"
   ]
  },
  {
   "cell_type": "markdown",
   "metadata": {},
   "source": [
    "## 1 Searching\n",
    "\n",
    "<mark>***Algorithms to find particular entries in a network.***</mark>"
   ]
  },
  {
   "cell_type": "markdown",
   "metadata": {},
   "source": [
    "We shall start by imagining that a **tree** network must be searched for the node containing a specific value.\n",
    "\n",
    "A tree is a special kind of network that starts from a single **head node**. The head node is referred to as a **mother** and the nodes that it points to are called its **daughters** (or, alternatively, parent and child nodes). Each daughter node can have its own daughters. In this way, the tree network is conceptually similar to a genealogical family tree. \n",
    "\n",
    "See the example below for a visualization of a tree."
   ]
  },
  {
   "cell_type": "code",
   "execution_count": null,
   "metadata": {},
   "outputs": [],
   "source": [
    "# use nested tuples to define tree structure\n",
    "tree_tuple = ('A',(('B',(('D',None),('E',None),('F',None))),('C',(('G',None),('H',None)))))\n",
    "\n",
    "# define the tree\n",
    "tree=Tree()\n",
    "tree.build(tree_tuple)\n",
    "\n",
    "# assign values tonodes\n",
    "tree_vals = {'A':2,'B':-1,'D':3,'E':0,'F':-2,'C':1,'G':-3,'H':4}\n",
    "tree.assign_values(tree_vals)\n",
    "\n",
    "# plot the tree\n",
    "tree.show()"
   ]
  },
  {
   "cell_type": "markdown",
   "metadata": {},
   "source": [
    "***Comment the call to ```assign_values```. What happens and why?***\n",
    "\n",
    "> <mark>*~ your answer here ~*</mark>\n",
    "\n",
    "***How many \"generations\" are in this tree?***\n",
    "\n",
    "> <mark>*~ your answer here ~*</mark>\n",
    "\n",
    "***In what order would you go \"searching\" the nodes of this tree?***\n",
    "\n",
    "> <mark>*~ your answer here ~*</mark>\n"
   ]
  },
  {
   "cell_type": "markdown",
   "metadata": {
    "heading_collapsed": true
   },
   "source": [
    "### 1.1 Depth-first vs. breadth-first searching"
   ]
  },
  {
   "cell_type": "markdown",
   "metadata": {
    "hidden": true
   },
   "source": [
    "Searching a tree involves finding a particular node holding a particular value. For instance, consider finding the node with value `1` in the tree above (clearly, we can see this is node `C`). \n",
    "\n",
    "There are two search strategies, both begin at the head node\n",
    "\n",
    "- **Breadth-first** searching checks all nodes in a generation before moving on to the next.\n",
    "- **Depth-first** searching explores down \"family lines\" in the tree. \n",
    "\n",
    "The visualisation below compares depth-first vs. breadth-first searches. "
   ]
  },
  {
   "cell_type": "code",
   "execution_count": null,
   "metadata": {
    "hidden": true
   },
   "outputs": [],
   "source": [
    "# this cell creates a visualisation of BREADTH-first and DEPTH-first searching\n",
    "interact(interactive_search, search={'depth':0, 'breadth':1}, check=(1,8,1), tree = fixed(tree));"
   ]
  },
  {
   "cell_type": "markdown",
   "metadata": {
    "hidden": true
   },
   "source": [
    "***- - - - CLASS CODING EXERCISE - - - -***"
   ]
  },
  {
   "cell_type": "code",
   "execution_count": null,
   "metadata": {
    "hidden": true
   },
   "outputs": [],
   "source": [
    "# PART ONE\n",
    "# --------\n",
    "# UNCOMMENT and TEST each command below\n",
    "# WRITE a comment to describe what each does\n",
    "\n",
    "# initial variable values\n",
    "cnt = 0\n",
    "search_value = -4\n",
    "ndA = tree.head\n",
    "\n",
    "# **uncomment and test**\n",
    "# ndA.value == search_value\n",
    "# ndB = ndA.get('B')\n",
    "# cnt = cnt + 1"
   ]
  },
  {
   "cell_type": "code",
   "execution_count": null,
   "metadata": {
    "hidden": true
   },
   "outputs": [],
   "source": [
    "# OPTIONAL CHALLENGE\n",
    "# ------------------\n",
    "# TEST the command below\n",
    "\n",
    "# abs(ndA.value - search_value) < 1.e-16\n",
    "# nd = ndA.arcs_out[0].to_node\n",
    "# cnt += 1"
   ]
  },
  {
   "cell_type": "code",
   "execution_count": null,
   "metadata": {
    "hidden": true
   },
   "outputs": [],
   "source": [
    "# PART TWO\n",
    "# --------\n",
    "# HARD CODE commands to search, breadth-first, the tree network above.\n",
    "# (hard-code = don't worry about making your code general to ANY tree)\n",
    "#\n",
    "# SEARCH_VALUE could change, so you should visit every node in the tree.\n",
    "\n",
    "# initialisation\n",
    "# --------------\n",
    "cnt = 0              # a counter for how many operations have taken place\n",
    "search_value = -4    # value to look for\n",
    "\n",
    "# all searches start with the head node\n",
    "ndA = tree.head\n",
    "___    # increment counter\n",
    "\n",
    "# check if found\n",
    "if ndA.value == search_value:\n",
    "    print('value found at node {} in {:d} operations'.format(node.name, cnt))\n",
    "___    # increment counter\n",
    "\n",
    "# get another node\n",
    "ndB = ndA.get('B')\n",
    "___    # increment counter\n",
    "    \n",
    "# copy-paste to build up your search algorithm, getting nodes, checking values\n",
    "___\n"
   ]
  },
  {
   "cell_type": "markdown",
   "metadata": {
    "heading_collapsed": true
   },
   "source": [
    "### 1.2 Depth-first search algorithm"
   ]
  },
  {
   "cell_type": "markdown",
   "metadata": {
    "hidden": true
   },
   "source": [
    "A depth-first search can be implemented **recursively**, by searching a node's daughters, and its daughters' daughters and so on:\n",
    "```\n",
    "1. Initialise search value, X.\n",
    "2. Call recursive function CHECK_NODE on head node.\n",
    "\n",
    "CHECK_NODE(ND, X)\n",
    "    if ND.value is X then\n",
    "        return ND\n",
    "    else if ND.daughters is None then\n",
    "        return None\n",
    "    else\n",
    "        for daughter in ND.daughters do\n",
    "            CHECK_NODE(daughter, X)\n",
    "```\n",
    "This algorithm is implemented in Python below."
   ]
  },
  {
   "cell_type": "code",
   "execution_count": null,
   "metadata": {
    "code_folding": [],
    "hidden": true
   },
   "outputs": [],
   "source": [
    "# recursive implementation of depth-first search\n",
    "def depth_search(tree, value, verbose=False):\n",
    "    ''' Initialise the search of TREE for VALUE.\n",
    "    '''\n",
    "    # display optional screen info about the search \n",
    "    if verbose:\n",
    "        print('searching tree for value {}'.format(value))\n",
    "        print('beginning at top node {}'.format(tree.head.name))\n",
    "        \n",
    "    # call recursive function on uppermost node\n",
    "    check_node(node=tree.head, value=value, verbose=verbose)\n",
    "    \n",
    "def check_node(node, value, verbose):\n",
    "    ''' Check NODE for VALUE. If not found, call CHECK_NODE on NODE's daughters.\n",
    "    '''\n",
    "    # check node for value\n",
    "    if node.value == value:     # <--- living dangerously here, see next module on Computer Zero for more\n",
    "        if verbose: print('{} FOUND at {}'.format(value, node.name))\n",
    "        return node\n",
    "    \n",
    "    # VALUE not found, call CHECK_NODE recursively on daughters\n",
    "    if verbose:\n",
    "        print('checking node {}, with daughters: {}'.format(node.name, [arc.to_node.name for arc in node.arcs_out]))\n",
    "        \n",
    "    for arc in node.arcs_out:\n",
    "        node = check_node(node=arc.to_node, value=value, verbose=verbose)\n",
    "        # return only FOUND result\n",
    "        if node is not None:\n",
    "            return node\n",
    "    \n",
    "    # node not found in daughters, return None\n",
    "    return None\n",
    "\n",
    "# call the depth-first search\n",
    "depth_search(tree=tree, value=-3, verbose=True)"
   ]
  },
  {
   "cell_type": "markdown",
   "metadata": {
    "heading_collapsed": true
   },
   "source": [
    "### 1.3 Breadth-first search algorithm"
   ]
  },
  {
   "cell_type": "markdown",
   "metadata": {
    "hidden": true
   },
   "source": [
    "This algorithm uses the **linked list** structure discussed in the previous module implemented as a **queue**. Nodes that are to eventually be searched are appended to the **end** of the queue, while the next node to be checked is popped from the **front**. The algorithm proceeds as follows:\n",
    "\n",
    "```\n",
    "1. Initialise search value, X.\n",
    "2. Initialise the queue with the head node the only member.\n",
    "3. Loop over:\n",
    "  i. Pop the next node from the queue.\n",
    "  ii. If value is found, end search.\n",
    "  iii. If not, append the current node's daughters to the end of the queue.\n",
    "```\n",
    "\n",
    "**For now, let's imagine what the queue should look like as it is slowly built up.**"
   ]
  },
  {
   "cell_type": "markdown",
   "metadata": {
    "hidden": true
   },
   "source": [
    "***- - - - CLASS CODING EXERCISE - - - -***"
   ]
  },
  {
   "cell_type": "code",
   "execution_count": null,
   "metadata": {
    "hidden": true
   },
   "outputs": [],
   "source": [
    "# PART ONE\n",
    "# --------\n",
    "# What do the commands below do?\n",
    "\n",
    "# create a linked list and add the head node\n",
    "ll = LinkedList()\n",
    "print(\"add first node\")\n",
    "ll.append(ndA)\n",
    "print(ll)\n",
    "\n",
    "# pop a node off the front\n",
    "print(\"pop a node\")\n",
    "nd = ll.pop(0)\n",
    "print(ll)\n",
    "\n",
    "# add in the daughter nodes\n",
    "print(\"add its daughters\")\n",
    "for arc in nd.arcs_out:\n",
    "    ll.append(arc.to_node)\n",
    "print(ll)\n"
   ]
  },
  {
   "cell_type": "code",
   "execution_count": null,
   "metadata": {
    "hidden": true
   },
   "outputs": [],
   "source": [
    "# PART TWO\n",
    "# --------\n",
    "# WRITE commands below (use copy-paste) to keep adding and popping from the queue\n",
    "# **your code here**\n"
   ]
  },
  {
   "cell_type": "code",
   "execution_count": null,
   "metadata": {
    "hidden": true
   },
   "outputs": [],
   "source": [
    "# OPTIONAL CHALLENGE\n",
    "# ------------------\n",
    "# ADD a step to check for the search_value\n",
    "# REPLACE duplicated commands inside a loop\n",
    "# **your code here**\n"
   ]
  },
  {
   "cell_type": "markdown",
   "metadata": {
    "heading_collapsed": true
   },
   "source": [
    "### 1.4 Depth-first search 2: the stack"
   ]
  },
  {
   "cell_type": "markdown",
   "metadata": {
    "hidden": true
   },
   "source": [
    "An alternative implementation of a depth-first search uses the linked list as a **stack**. In a stack, nodes are still appended to the **end** of the linked list. However, instead of being popped from the front, they are now popped from the **end** (last in, first out). "
   ]
  },
  {
   "cell_type": "markdown",
   "metadata": {},
   "source": [
    "## 2 Sorting\n",
    "\n",
    "<mark>***Algorithms to impose order (e.g., smallest to largest) on a disordered array.***</mark>"
   ]
  },
  {
   "cell_type": "markdown",
   "metadata": {},
   "source": [
    "Sorting methods are widely used in numerical computation. Four related sorting tasks are identified.\n",
    "\n",
    "- Rearrange an array of items into ascending or descending order by value (**descending, here**). \n",
    "\n",
    "$$\\begin{matrix} \\text{Position:}&\\quad 0 \\quad 1 \\quad 2 \\quad 3 \\quad 4 \\quad 5 \\quad 6 \\\\ \\text{Unsorted:}&\\quad 5 \\quad 2 \\quad 1 \\quad 4 \\quad 6 \\quad 7 \\quad 3 \\\\ \\text{Sorted:}&\\quad 7 \\quad 6 \\quad 5 \\quad 4 \\quad 3 \\quad 2 \\quad 1 \\end{matrix}$$\n",
    "\n",
    "- Rearrange an array of values into ascending or descending order and **also rearrange** additional arrays to **preserve correspondence** between elements (e.g., names and marks). This is best done using an **index table**.\n",
    "\n",
    "- Generate an **Index Table** of pointer values to the elements of an array in the sorted list (this is a specific case of the above where the \"additional array\" is just an array of indices). Note the correspondence of over/under pairs in *Position-Unsorted* and *Sorted-Index* below.\n",
    "\n",
    "$$\\begin{matrix} \\text{Position:}&\\quad 0 \\quad 1 \\quad 2 \\quad 3 \\quad 4 \\quad 5 \\quad 6 \\\\ \\text{Unsorted:}&\\quad 5 \\quad 2 \\quad 1 \\quad 4 \\quad 6 \\quad 7 \\quad 3 \\\\ \\\\ \\text{Sorted:}&\\quad 7 \\quad 6 \\quad 5 \\quad 4 \\quad 3 \\quad 2 \\quad 1  \\\\ \\text{Index:}&\\quad 5 \\quad 4 \\quad 0 \\quad 3 \\quad 6 \\quad 1 \\quad 2\\end{matrix}$$\n",
    "\n",
    "- Generate a **Rank Table**, which gives the position of each element in the sorted sequence:\n",
    "\n",
    "$$\\begin{matrix} \\text{Position:}&\\quad 0 \\quad 1 \\quad 2 \\quad 3 \\quad 4 \\quad 5 \\quad 6 \\\\ \\text{Unsorted:}&\\quad 5 \\quad 2 \\quad 1 \\quad 4 \\quad 6 \\quad 7 \\quad 3 \\\\ \\text{Sorted:}&\\quad 7 \\quad 6 \\quad 5 \\quad 4 \\quad 3 \\quad 2 \\quad 1  \\\\ \\text{Rank:}&\\quad 2 \\quad 5 \\quad 6 \\quad 3 \\quad 1 \\quad 0 \\quad 4 \\end{matrix}$$\n",
    "\n",
    "We shall consider two sorting algorithms (there are many others): **insertion sort** and **heap sort**."
   ]
  },
  {
   "cell_type": "markdown",
   "metadata": {},
   "source": [
    "***Explain how the expression `Sorted[i] = Unsorted[Index[i]]` is accurate in regards to index tables.***\n",
    "\n",
    "> <mark>*~ your answer here ~*</mark>\n",
    "\n",
    "***Explain how the expression `Unsorted[i] = Sorted[Rank[i]]` is accurate in regards to rank tables.***\n",
    "\n",
    "> <mark>*~ your answer here ~*</mark>"
   ]
  },
  {
   "cell_type": "markdown",
   "metadata": {
    "heading_collapsed": true
   },
   "source": [
    "### 2.1 Comparison"
   ]
  },
  {
   "cell_type": "markdown",
   "metadata": {
    "hidden": true
   },
   "source": [
    "A key step in all sorting algorithms is **comparison** of two values: this is the basis for determining which item should precede the other. \n",
    "\n",
    "If the values are integer or floats, the comparison is undertaken straightforwardly using the `<` or `>` operators.\n",
    "\n",
    "If instead the items are strings, e.g., `'cat'` and `'dog'`... we can still use the  `<` or `>` operators. \n",
    "\n",
    "***Execute the code snippet below and explain the results 1-6.***"
   ]
  },
  {
   "cell_type": "code",
   "execution_count": null,
   "metadata": {
    "hidden": true
   },
   "outputs": [],
   "source": [
    "# 1. compare two numbers\n",
    "a,b = [3.2, 5.8]\n",
    "print('a = {}, b = {}, a<b is {}'.format(a,b,a<b))\n",
    "\n",
    "# 2. compare two strings\n",
    "a,b = ['a', 'b']\n",
    "print('a = \\'{}\\', b = \\'{}\\', a<b is {}'.format(a,b,a<b))\n",
    "\n",
    "# 3. compare the ascii code of two strings\n",
    "a,b = [ord('a'), ord('b')]\n",
    "print('a = {}, b = {}, a<b is {}'.format(a,b,a<b))\n",
    "\n",
    "# 4. compare two longer strings\n",
    "a,b = ['coffee','tea']\n",
    "print('a = \\'{}\\', b = \\'{}\\', a<b is {}'.format(a,b,a<b))\n",
    "\n",
    "# 5. compare two longer strings sharing the same first letter\n",
    "a,b = ['toffee','tea']\n",
    "print('a = \\'{}\\', b = \\'{}\\', a<b is {}'.format(a,b,a<b))\n",
    "\n",
    "# 6. compare two longer strings sharing the same first letter but different case\n",
    "a,b = ['Toffee','tea']\n",
    "print('a = \\'{}\\', b = \\'{}\\', a<b is {}'.format(a,b,a<b))"
   ]
  },
  {
   "cell_type": "markdown",
   "metadata": {
    "hidden": true
   },
   "source": [
    "[***How does string comparison work?***](http://stackoverflow.com/questions/4806911/string-comparison-technique-used-by-python)\n",
    "\n",
    "> <mark>*~ your answer here ~*</mark>\n"
   ]
  },
  {
   "cell_type": "markdown",
   "metadata": {
    "heading_collapsed": true
   },
   "source": [
    "### 2.2 Insertion sort"
   ]
  },
  {
   "cell_type": "markdown",
   "metadata": {
    "hidden": true
   },
   "source": [
    "The pseudocode for insertion sort is presented below, sorting an input array, $A$, containing a sequence of $n$ numbers into ascending order. $A$ is sorted **in place**, which saves on memory but destroys the original order.\n",
    "\n",
    "```\n",
    "1    INSERTION-SORT(A)\n",
    "2    for j = 1 to n-1 do\n",
    "3       key = A[j]\n",
    "4       i = j-1\n",
    "5       while i>-1 do\n",
    "6           if not (A[i] > key)\n",
    "7               break\n",
    "8           A[i+1] = A[i]\n",
    "9           i = i-1\n",
    "10      A[i+1] = key\n",
    "```\n",
    "\n",
    "Insertion sort is relatively easy to implement but is computationally expensive. It should only be used for small datasets. \n",
    "\n",
    "The cell below visualises the steps of insertion sort, which is implemented in `combinatorics233.py`. It is straightforward to modify this code to produce an **index table**."
   ]
  },
  {
   "cell_type": "code",
   "execution_count": null,
   "metadata": {
    "hidden": true
   },
   "outputs": [],
   "source": [
    "# run this cell for a visualisation of INSERTION sort\n",
    "           \n",
    "def interact_sort(step=0):\n",
    "    # array for sorting (you can change this, but then you may need more steps below)\n",
    "    A = [5, 3, 7, 1, 2]\n",
    "    \n",
    "    # call insertion sort method\n",
    "    insertion_sort(A, step)\n",
    "        \n",
    "interact(interact_sort, step = (0,24,1));"
   ]
  },
  {
   "cell_type": "markdown",
   "metadata": {
    "hidden": true
   },
   "source": [
    "***In the pseudocode for insertion sort above, to which lines do the green, red, blue and grey operations refer?*** \n",
    "\n",
    "> <mark>*~ your answer here ~*</mark>"
   ]
  },
  {
   "cell_type": "markdown",
   "metadata": {
    "hidden": true
   },
   "source": [
    "***- - - - CLASS CODING EXERCISE - - - -***"
   ]
  },
  {
   "cell_type": "code",
   "execution_count": null,
   "metadata": {
    "hidden": true
   },
   "outputs": [],
   "source": [
    "# PART ONE\n",
    "# --------\n",
    "# Move the SLIDER above to STEP 8\n",
    "# partially sorted array A is\n",
    "A = [3,5,7,1,2]\n",
    "# the key is in position 4\n",
    "key = A[3]\n",
    "\n",
    "# write a while loop with a DECREASING array index:\n",
    "# - that BEGINS at the first entry TO THE LEFT of 'key'\n",
    "# - HALT the while loop at the BEGINNING of the array\n",
    "# - PRINT the array value\n",
    "    \n",
    "# HINT: if you accidentally start an infinite loop, double tap the '0' key to restart Python"
   ]
  },
  {
   "cell_type": "code",
   "execution_count": null,
   "metadata": {
    "hidden": true
   },
   "outputs": [],
   "source": [
    "# PART TWO\n",
    "# --------\n",
    "# MODIFY your while loop above so that\n",
    "# - it takes a GENERAL beginning index key, j\n",
    "# - uses a FOR loop to iterate j over the length of the array.\n",
    "# - PRINT the current key AND the array value\n",
    "A = [5, 3, 7, 1, 2]\n",
    "        "
   ]
  },
  {
   "cell_type": "code",
   "execution_count": null,
   "metadata": {
    "hidden": true
   },
   "outputs": [],
   "source": [
    "# OPTIONAL CHALLENGE\n",
    "# ------------------\n",
    "# modify your loops above to include ARRAY SWAPS and LOOP BREAKS according to the pseudocode above."
   ]
  },
  {
   "cell_type": "markdown",
   "metadata": {
    "heading_collapsed": true
   },
   "source": [
    "### 2.3 Properties of sort algorithms"
   ]
  },
  {
   "cell_type": "markdown",
   "metadata": {
    "hidden": true
   },
   "source": [
    "There are a large number of possible sort algorithms: [bubble](https://en.wikipedia.org/wiki/Bubble_sort), [insertion](https://en.wikipedia.org/wiki/Insertion_sort), [Shell](https://en.wikipedia.org/wiki/Shellsort), [mergesort](https://en.wikipedia.org/wiki/Merge_sort), [quicksort](https://en.wikipedia.org/wiki/Quicksort), [timsort](https://en.wikipedia.org/wiki/Timsort), [heapsort](https://en.wikipedia.org/wiki/Heapsort), etc. Surely one of these is \"the best\", and we should use just ***that*** algorithm all the time?\n",
    "\n",
    "In practice, different sort algorithms have unique properties that may suit them to a particular task better than others. ***This idea applies to algorithms in general and is an essential take-away from this course.***\n",
    "\n",
    "For example, quicksort is **quite fast** for the average input, but can require a lot of memory. Shell's sort does not scale quite so well, but has **minimal memory requirements**. We might use one algorithm for a [microbit](https://microbit.org/) with limited memory, and another one on a supercomputer.\n",
    "\n",
    "When choosing, one should consider the following properties of sort algorithms:\n",
    "\n",
    "***2.3.1 Scaling***\n",
    "\n",
    "Recall from the **Performance** module the concept of algorithm scaling, quantified in terms of Big O Notation, $\\mathcal{O}()$. To measure the efficiency of a sorting algorithm, we count the number of operations to complete the sort in two situations: \n",
    "\n",
    "1. Worst case performance, where the data is initially ordered the opposite way to desired (e.g., initially in ascending order, we desire to sort in descending).\n",
    "\n",
    "2. Average case performance, where the data is in a random order.\n",
    "\n",
    "***2.3.2 Memory***\n",
    "\n",
    "Algorithms that rely on **recursion**, such as quicksort, have the potential to grow quite rapidly in terms of required memory. \n",
    "\n",
    "***2.3.3 Stability***\n",
    "\n",
    "When a sorting algorithm encounters two identical values in a list, the algorithm is **stable** if the original order of the two items is **preserved**.\n",
    "\n",
    "***2.3.4 Online***\n",
    "\n",
    "An algorithm can sort a list as it is received, i.e., the complete list is not required before sorting begins. Insertion sort is an online algorithm."
   ]
  },
  {
   "cell_type": "markdown",
   "metadata": {
    "hidden": true
   },
   "source": [
    "***Run the next cell and then answer the questions below.***"
   ]
  },
  {
   "cell_type": "code",
   "execution_count": null,
   "metadata": {
    "hidden": true
   },
   "outputs": [],
   "source": [
    "# compare insertion and heap sort operations for increasing N\n",
    "import numpy as np\n",
    "from matplotlib import pyplot as plt\n",
    "N = np.linspace(1,1e5, 101)\n",
    "k = 0.3e4\n",
    "heapN = k*N*np.log2(N)\n",
    "insertionN = N**2\n",
    "\n",
    "# plot the comparison\n",
    "f,ax = plt.subplots(1,1)\n",
    "ax.plot(N, insertionN, 'b-', label='insertion')\n",
    "ax.plot(N, heapN, 'r-', label = 'heap')\n",
    "ax.legend()\n",
    "ax.set_xlabel('length of list')\n",
    "ax.set_ylabel('number of operations');"
   ]
  },
  {
   "cell_type": "markdown",
   "metadata": {
    "hidden": true
   },
   "source": [
    "***Which algorithm is more efficient for shorter length lists? For longer lengths?***\n",
    "\n",
    "> <mark>*~ your answer here ~*</mark>\n",
    "\n",
    "***How does the constant factor $k$  affect your answer above? (change it in the code and see)***\n",
    "\n",
    "> <mark>*~ your answer here ~*</mark>\n",
    "\n",
    "***How would you decide which sorting algorithm to use?***\n",
    "\n",
    "> <mark>*~ your answer here ~*</mark>\n"
   ]
  },
  {
   "cell_type": "markdown",
   "metadata": {
    "heading_collapsed": true
   },
   "source": [
    "## 3 Dijkstra's algorithm\n",
    "\n",
    "<mark>***Finding the shortest path through a network.***</mark>"
   ]
  },
  {
   "cell_type": "markdown",
   "metadata": {
    "hidden": true
   },
   "source": [
    "Given a network comprising a set of nodes linked by arcs, we are sometimes interested in finding the shortest route between a source node and a destination node. \n",
    "\n",
    "***Describe a situation in which it might be important to find the shortest path.***\n",
    "\n",
    "> <mark>*~ your answer here ~*</mark>\n",
    "\n",
    "[Dijkstra's **shortest path** algorithm](https://en.wikipedia.org/wiki/Dijkstra's_algorithm) achieves this by (1) finding the shortest distance to all other nodes in the network, (2) stopping when the shortest distance to the destination node is determined. \n",
    "\n",
    "The algorithm steps are:\n",
    "\n",
    "**Initialisation**: Form two sets of nodes. Set 1 consists of *solved nodes*. Set 2, called the **unvisited set**, consists of *unsolved nodes*. Every node must be a member of only one of these sets at any given time. *Initially all the nodes are members of the unvisited set.* \n",
    "\n",
    "Assign each node a **distance**, $d$, that is a very large number (`node.distance = float(\"Inf\")`) and, eventually, a predecessor node, $p$. The one exception is the **source node**, which has distance 0 and no predecessor.\n",
    "\n",
    "**Iterations**:\n",
    "\n",
    "1. From all nodes in the unvisited set, choose node $i$ with minimum distance $d(i)$. Node $i$ becomes a solved node now. In case of a tie, any one of the unsolved nodes becomes a solved node.\n",
    "\n",
    "2. List the unsolved nodes which can be reached by following a single arc out of the new solved node $i$ identified in Step 1.\n",
    "\n",
    "3. Find the total distance from the origin to each of the unsolved nodes $j$ listed in Step 2.\n",
    "\t\t\n",
    "   Total distance =\tShortest distance from origin to solved node + Distance from solved node to adjacent unsolved node\n",
    "   OR\n",
    "   $\\bar{d}(j) = d(i) + \\text{weight of arc}(i,j)$\n",
    "   \n",
    "   If this total distance $\\bar{d}(j)$ is **smaller** than the current distance $d(j)$, update the distance ($d(j)\\leftarrow \\bar{d}(j)$) and set the predecessor of node $j$ as node $i$.\n",
    "\n",
    "**Stopping Criterion**: Repeat Steps 1, 2, and 3 until the **destination node** becomes a solved node.\n",
    "\n",
    "**Discussion:**\n",
    "- These shortest path algorithms will produce the shortest path to every node closer than the destination as a by-product. By letting the algorithm run its course until there are no more unsolved nodes (instead of using the stopping criterion), we can produce the shortest path from the origin to every possible destination in the network.\n",
    "- With non-negative arc weights, Dijkstra’s Algorithm is guaranteed to produce the optimal solution."
   ]
  },
  {
   "cell_type": "markdown",
   "metadata": {
    "hidden": true
   },
   "source": [
    "***Run the cell below for a demonstration of Dijkstra's algorithm***"
   ]
  },
  {
   "cell_type": "code",
   "execution_count": null,
   "metadata": {
    "hidden": true
   },
   "outputs": [],
   "source": [
    "dijkstra_example()"
   ]
  }
 ],
 "metadata": {
  "anaconda-cloud": {},
  "kernelspec": {
   "display_name": "Python 3",
   "language": "python",
   "name": "python3"
  },
  "language_info": {
   "codemirror_mode": {
    "name": "ipython",
    "version": 3
   },
   "file_extension": ".py",
   "mimetype": "text/x-python",
   "name": "python",
   "nbconvert_exporter": "python",
   "pygments_lexer": "ipython3",
   "version": "3.6.4"
  }
 },
 "nbformat": 4,
 "nbformat_minor": 1
}
